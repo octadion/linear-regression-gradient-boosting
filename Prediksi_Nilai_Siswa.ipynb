{
  "nbformat": 4,
  "nbformat_minor": 0,
  "metadata": {
    "colab": {
      "provenance": [],
      "toc_visible": true
    },
    "kernelspec": {
      "name": "python3",
      "display_name": "Python 3"
    },
    "language_info": {
      "name": "python"
    }
  },
  "cells": [
    {
      "cell_type": "markdown",
      "source": [
        "# Prediksi Nilai Siswa"
      ],
      "metadata": {
        "id": "FNm9IKTSPU_-"
      }
    },
    {
      "cell_type": "markdown",
      "source": [
        "## Import Data"
      ],
      "metadata": {
        "id": "s3T96rAYPapi"
      }
    },
    {
      "cell_type": "code",
      "execution_count": null,
      "metadata": {
        "id": "Kax7_2H6l8nq"
      },
      "outputs": [],
      "source": [
        "import pandas as pd\n",
        "import numpy as np\n",
        "from google.colab import files"
      ]
    },
    {
      "cell_type": "markdown",
      "source": [
        "Kami menggunakan dataset sekunder yang bersumber dari kaggle.com dengan tautan sebagai berikut: https://www.kaggle.com/datasets/uciml/student-alcohol-consumption?resource=download"
      ],
      "metadata": {
        "id": "ZbecSR6CQU_6"
      }
    },
    {
      "cell_type": "code",
      "source": [
        "dataset = files.upload()\n",
        "\n",
        "for fn in dataset.keys():\n",
        "  print('Nama file \"{name}\" dengan panjang {length} bytes'.format(name = fn, length = len(dataset[fn])))"
      ],
      "metadata": {
        "colab": {
          "base_uri": "https://localhost:8080/",
          "height": 90
        },
        "id": "BcTUvRzXQNci",
        "outputId": "66e917e3-408d-4179-f782-2150e57b0ba9"
      },
      "execution_count": null,
      "outputs": [
        {
          "output_type": "display_data",
          "data": {
            "text/plain": [
              "<IPython.core.display.HTML object>"
            ],
            "text/html": [
              "\n",
              "     <input type=\"file\" id=\"files-df13a739-a459-4066-ac1d-24bd37ca9d07\" name=\"files[]\" multiple disabled\n",
              "        style=\"border:none\" />\n",
              "     <output id=\"result-df13a739-a459-4066-ac1d-24bd37ca9d07\">\n",
              "      Upload widget is only available when the cell has been executed in the\n",
              "      current browser session. Please rerun this cell to enable.\n",
              "      </output>\n",
              "      <script>// Copyright 2017 Google LLC\n",
              "//\n",
              "// Licensed under the Apache License, Version 2.0 (the \"License\");\n",
              "// you may not use this file except in compliance with the License.\n",
              "// You may obtain a copy of the License at\n",
              "//\n",
              "//      http://www.apache.org/licenses/LICENSE-2.0\n",
              "//\n",
              "// Unless required by applicable law or agreed to in writing, software\n",
              "// distributed under the License is distributed on an \"AS IS\" BASIS,\n",
              "// WITHOUT WARRANTIES OR CONDITIONS OF ANY KIND, either express or implied.\n",
              "// See the License for the specific language governing permissions and\n",
              "// limitations under the License.\n",
              "\n",
              "/**\n",
              " * @fileoverview Helpers for google.colab Python module.\n",
              " */\n",
              "(function(scope) {\n",
              "function span(text, styleAttributes = {}) {\n",
              "  const element = document.createElement('span');\n",
              "  element.textContent = text;\n",
              "  for (const key of Object.keys(styleAttributes)) {\n",
              "    element.style[key] = styleAttributes[key];\n",
              "  }\n",
              "  return element;\n",
              "}\n",
              "\n",
              "// Max number of bytes which will be uploaded at a time.\n",
              "const MAX_PAYLOAD_SIZE = 100 * 1024;\n",
              "\n",
              "function _uploadFiles(inputId, outputId) {\n",
              "  const steps = uploadFilesStep(inputId, outputId);\n",
              "  const outputElement = document.getElementById(outputId);\n",
              "  // Cache steps on the outputElement to make it available for the next call\n",
              "  // to uploadFilesContinue from Python.\n",
              "  outputElement.steps = steps;\n",
              "\n",
              "  return _uploadFilesContinue(outputId);\n",
              "}\n",
              "\n",
              "// This is roughly an async generator (not supported in the browser yet),\n",
              "// where there are multiple asynchronous steps and the Python side is going\n",
              "// to poll for completion of each step.\n",
              "// This uses a Promise to block the python side on completion of each step,\n",
              "// then passes the result of the previous step as the input to the next step.\n",
              "function _uploadFilesContinue(outputId) {\n",
              "  const outputElement = document.getElementById(outputId);\n",
              "  const steps = outputElement.steps;\n",
              "\n",
              "  const next = steps.next(outputElement.lastPromiseValue);\n",
              "  return Promise.resolve(next.value.promise).then((value) => {\n",
              "    // Cache the last promise value to make it available to the next\n",
              "    // step of the generator.\n",
              "    outputElement.lastPromiseValue = value;\n",
              "    return next.value.response;\n",
              "  });\n",
              "}\n",
              "\n",
              "/**\n",
              " * Generator function which is called between each async step of the upload\n",
              " * process.\n",
              " * @param {string} inputId Element ID of the input file picker element.\n",
              " * @param {string} outputId Element ID of the output display.\n",
              " * @return {!Iterable<!Object>} Iterable of next steps.\n",
              " */\n",
              "function* uploadFilesStep(inputId, outputId) {\n",
              "  const inputElement = document.getElementById(inputId);\n",
              "  inputElement.disabled = false;\n",
              "\n",
              "  const outputElement = document.getElementById(outputId);\n",
              "  outputElement.innerHTML = '';\n",
              "\n",
              "  const pickedPromise = new Promise((resolve) => {\n",
              "    inputElement.addEventListener('change', (e) => {\n",
              "      resolve(e.target.files);\n",
              "    });\n",
              "  });\n",
              "\n",
              "  const cancel = document.createElement('button');\n",
              "  inputElement.parentElement.appendChild(cancel);\n",
              "  cancel.textContent = 'Cancel upload';\n",
              "  const cancelPromise = new Promise((resolve) => {\n",
              "    cancel.onclick = () => {\n",
              "      resolve(null);\n",
              "    };\n",
              "  });\n",
              "\n",
              "  // Wait for the user to pick the files.\n",
              "  const files = yield {\n",
              "    promise: Promise.race([pickedPromise, cancelPromise]),\n",
              "    response: {\n",
              "      action: 'starting',\n",
              "    }\n",
              "  };\n",
              "\n",
              "  cancel.remove();\n",
              "\n",
              "  // Disable the input element since further picks are not allowed.\n",
              "  inputElement.disabled = true;\n",
              "\n",
              "  if (!files) {\n",
              "    return {\n",
              "      response: {\n",
              "        action: 'complete',\n",
              "      }\n",
              "    };\n",
              "  }\n",
              "\n",
              "  for (const file of files) {\n",
              "    const li = document.createElement('li');\n",
              "    li.append(span(file.name, {fontWeight: 'bold'}));\n",
              "    li.append(span(\n",
              "        `(${file.type || 'n/a'}) - ${file.size} bytes, ` +\n",
              "        `last modified: ${\n",
              "            file.lastModifiedDate ? file.lastModifiedDate.toLocaleDateString() :\n",
              "                                    'n/a'} - `));\n",
              "    const percent = span('0% done');\n",
              "    li.appendChild(percent);\n",
              "\n",
              "    outputElement.appendChild(li);\n",
              "\n",
              "    const fileDataPromise = new Promise((resolve) => {\n",
              "      const reader = new FileReader();\n",
              "      reader.onload = (e) => {\n",
              "        resolve(e.target.result);\n",
              "      };\n",
              "      reader.readAsArrayBuffer(file);\n",
              "    });\n",
              "    // Wait for the data to be ready.\n",
              "    let fileData = yield {\n",
              "      promise: fileDataPromise,\n",
              "      response: {\n",
              "        action: 'continue',\n",
              "      }\n",
              "    };\n",
              "\n",
              "    // Use a chunked sending to avoid message size limits. See b/62115660.\n",
              "    let position = 0;\n",
              "    do {\n",
              "      const length = Math.min(fileData.byteLength - position, MAX_PAYLOAD_SIZE);\n",
              "      const chunk = new Uint8Array(fileData, position, length);\n",
              "      position += length;\n",
              "\n",
              "      const base64 = btoa(String.fromCharCode.apply(null, chunk));\n",
              "      yield {\n",
              "        response: {\n",
              "          action: 'append',\n",
              "          file: file.name,\n",
              "          data: base64,\n",
              "        },\n",
              "      };\n",
              "\n",
              "      let percentDone = fileData.byteLength === 0 ?\n",
              "          100 :\n",
              "          Math.round((position / fileData.byteLength) * 100);\n",
              "      percent.textContent = `${percentDone}% done`;\n",
              "\n",
              "    } while (position < fileData.byteLength);\n",
              "  }\n",
              "\n",
              "  // All done.\n",
              "  yield {\n",
              "    response: {\n",
              "      action: 'complete',\n",
              "    }\n",
              "  };\n",
              "}\n",
              "\n",
              "scope.google = scope.google || {};\n",
              "scope.google.colab = scope.google.colab || {};\n",
              "scope.google.colab._files = {\n",
              "  _uploadFiles,\n",
              "  _uploadFilesContinue,\n",
              "};\n",
              "})(self);\n",
              "</script> "
            ]
          },
          "metadata": {}
        },
        {
          "output_type": "stream",
          "name": "stdout",
          "text": [
            "Saving student-mat.csv to student-mat (2).csv\n",
            "Nama file \"student-mat.csv\" dengan panjang 41983 bytes\n"
          ]
        }
      ]
    },
    {
      "cell_type": "code",
      "source": [
        "data = pd.read_csv('student-mat.csv')"
      ],
      "metadata": {
        "id": "E8N58oByP00a"
      },
      "execution_count": null,
      "outputs": []
    },
    {
      "cell_type": "code",
      "source": [
        "data.head()"
      ],
      "metadata": {
        "colab": {
          "base_uri": "https://localhost:8080/",
          "height": 299
        },
        "id": "c-444BY4SHLP",
        "outputId": "9b2906cb-9ffc-497a-ae80-856655d3fef7"
      },
      "execution_count": null,
      "outputs": [
        {
          "output_type": "execute_result",
          "data": {
            "text/plain": [
              "  school sex  age address famsize Pstatus  Medu  Fedu     Mjob      Fjob  ...  \\\n",
              "0     GP   F   18       U     GT3       A     4     4  at_home   teacher  ...   \n",
              "1     GP   F   17       U     GT3       T     1     1  at_home     other  ...   \n",
              "2     GP   F   15       U     LE3       T     1     1  at_home     other  ...   \n",
              "3     GP   F   15       U     GT3       T     4     2   health  services  ...   \n",
              "4     GP   F   16       U     GT3       T     3     3    other     other  ...   \n",
              "\n",
              "  famrel freetime  goout  Dalc  Walc health absences  G1  G2  G3  \n",
              "0      4        3      4     1     1      3        6   5   6   6  \n",
              "1      5        3      3     1     1      3        4   5   5   6  \n",
              "2      4        3      2     2     3      3       10   7   8  10  \n",
              "3      3        2      2     1     1      5        2  15  14  15  \n",
              "4      4        3      2     1     2      5        4   6  10  10  \n",
              "\n",
              "[5 rows x 33 columns]"
            ],
            "text/html": [
              "\n",
              "  <div id=\"df-2056b80a-57ea-43ef-9fea-b069cd1d4e5f\">\n",
              "    <div class=\"colab-df-container\">\n",
              "      <div>\n",
              "<style scoped>\n",
              "    .dataframe tbody tr th:only-of-type {\n",
              "        vertical-align: middle;\n",
              "    }\n",
              "\n",
              "    .dataframe tbody tr th {\n",
              "        vertical-align: top;\n",
              "    }\n",
              "\n",
              "    .dataframe thead th {\n",
              "        text-align: right;\n",
              "    }\n",
              "</style>\n",
              "<table border=\"1\" class=\"dataframe\">\n",
              "  <thead>\n",
              "    <tr style=\"text-align: right;\">\n",
              "      <th></th>\n",
              "      <th>school</th>\n",
              "      <th>sex</th>\n",
              "      <th>age</th>\n",
              "      <th>address</th>\n",
              "      <th>famsize</th>\n",
              "      <th>Pstatus</th>\n",
              "      <th>Medu</th>\n",
              "      <th>Fedu</th>\n",
              "      <th>Mjob</th>\n",
              "      <th>Fjob</th>\n",
              "      <th>...</th>\n",
              "      <th>famrel</th>\n",
              "      <th>freetime</th>\n",
              "      <th>goout</th>\n",
              "      <th>Dalc</th>\n",
              "      <th>Walc</th>\n",
              "      <th>health</th>\n",
              "      <th>absences</th>\n",
              "      <th>G1</th>\n",
              "      <th>G2</th>\n",
              "      <th>G3</th>\n",
              "    </tr>\n",
              "  </thead>\n",
              "  <tbody>\n",
              "    <tr>\n",
              "      <th>0</th>\n",
              "      <td>GP</td>\n",
              "      <td>F</td>\n",
              "      <td>18</td>\n",
              "      <td>U</td>\n",
              "      <td>GT3</td>\n",
              "      <td>A</td>\n",
              "      <td>4</td>\n",
              "      <td>4</td>\n",
              "      <td>at_home</td>\n",
              "      <td>teacher</td>\n",
              "      <td>...</td>\n",
              "      <td>4</td>\n",
              "      <td>3</td>\n",
              "      <td>4</td>\n",
              "      <td>1</td>\n",
              "      <td>1</td>\n",
              "      <td>3</td>\n",
              "      <td>6</td>\n",
              "      <td>5</td>\n",
              "      <td>6</td>\n",
              "      <td>6</td>\n",
              "    </tr>\n",
              "    <tr>\n",
              "      <th>1</th>\n",
              "      <td>GP</td>\n",
              "      <td>F</td>\n",
              "      <td>17</td>\n",
              "      <td>U</td>\n",
              "      <td>GT3</td>\n",
              "      <td>T</td>\n",
              "      <td>1</td>\n",
              "      <td>1</td>\n",
              "      <td>at_home</td>\n",
              "      <td>other</td>\n",
              "      <td>...</td>\n",
              "      <td>5</td>\n",
              "      <td>3</td>\n",
              "      <td>3</td>\n",
              "      <td>1</td>\n",
              "      <td>1</td>\n",
              "      <td>3</td>\n",
              "      <td>4</td>\n",
              "      <td>5</td>\n",
              "      <td>5</td>\n",
              "      <td>6</td>\n",
              "    </tr>\n",
              "    <tr>\n",
              "      <th>2</th>\n",
              "      <td>GP</td>\n",
              "      <td>F</td>\n",
              "      <td>15</td>\n",
              "      <td>U</td>\n",
              "      <td>LE3</td>\n",
              "      <td>T</td>\n",
              "      <td>1</td>\n",
              "      <td>1</td>\n",
              "      <td>at_home</td>\n",
              "      <td>other</td>\n",
              "      <td>...</td>\n",
              "      <td>4</td>\n",
              "      <td>3</td>\n",
              "      <td>2</td>\n",
              "      <td>2</td>\n",
              "      <td>3</td>\n",
              "      <td>3</td>\n",
              "      <td>10</td>\n",
              "      <td>7</td>\n",
              "      <td>8</td>\n",
              "      <td>10</td>\n",
              "    </tr>\n",
              "    <tr>\n",
              "      <th>3</th>\n",
              "      <td>GP</td>\n",
              "      <td>F</td>\n",
              "      <td>15</td>\n",
              "      <td>U</td>\n",
              "      <td>GT3</td>\n",
              "      <td>T</td>\n",
              "      <td>4</td>\n",
              "      <td>2</td>\n",
              "      <td>health</td>\n",
              "      <td>services</td>\n",
              "      <td>...</td>\n",
              "      <td>3</td>\n",
              "      <td>2</td>\n",
              "      <td>2</td>\n",
              "      <td>1</td>\n",
              "      <td>1</td>\n",
              "      <td>5</td>\n",
              "      <td>2</td>\n",
              "      <td>15</td>\n",
              "      <td>14</td>\n",
              "      <td>15</td>\n",
              "    </tr>\n",
              "    <tr>\n",
              "      <th>4</th>\n",
              "      <td>GP</td>\n",
              "      <td>F</td>\n",
              "      <td>16</td>\n",
              "      <td>U</td>\n",
              "      <td>GT3</td>\n",
              "      <td>T</td>\n",
              "      <td>3</td>\n",
              "      <td>3</td>\n",
              "      <td>other</td>\n",
              "      <td>other</td>\n",
              "      <td>...</td>\n",
              "      <td>4</td>\n",
              "      <td>3</td>\n",
              "      <td>2</td>\n",
              "      <td>1</td>\n",
              "      <td>2</td>\n",
              "      <td>5</td>\n",
              "      <td>4</td>\n",
              "      <td>6</td>\n",
              "      <td>10</td>\n",
              "      <td>10</td>\n",
              "    </tr>\n",
              "  </tbody>\n",
              "</table>\n",
              "<p>5 rows × 33 columns</p>\n",
              "</div>\n",
              "      <button class=\"colab-df-convert\" onclick=\"convertToInteractive('df-2056b80a-57ea-43ef-9fea-b069cd1d4e5f')\"\n",
              "              title=\"Convert this dataframe to an interactive table.\"\n",
              "              style=\"display:none;\">\n",
              "        \n",
              "  <svg xmlns=\"http://www.w3.org/2000/svg\" height=\"24px\"viewBox=\"0 0 24 24\"\n",
              "       width=\"24px\">\n",
              "    <path d=\"M0 0h24v24H0V0z\" fill=\"none\"/>\n",
              "    <path d=\"M18.56 5.44l.94 2.06.94-2.06 2.06-.94-2.06-.94-.94-2.06-.94 2.06-2.06.94zm-11 1L8.5 8.5l.94-2.06 2.06-.94-2.06-.94L8.5 2.5l-.94 2.06-2.06.94zm10 10l.94 2.06.94-2.06 2.06-.94-2.06-.94-.94-2.06-.94 2.06-2.06.94z\"/><path d=\"M17.41 7.96l-1.37-1.37c-.4-.4-.92-.59-1.43-.59-.52 0-1.04.2-1.43.59L10.3 9.45l-7.72 7.72c-.78.78-.78 2.05 0 2.83L4 21.41c.39.39.9.59 1.41.59.51 0 1.02-.2 1.41-.59l7.78-7.78 2.81-2.81c.8-.78.8-2.07 0-2.86zM5.41 20L4 18.59l7.72-7.72 1.47 1.35L5.41 20z\"/>\n",
              "  </svg>\n",
              "      </button>\n",
              "      \n",
              "  <style>\n",
              "    .colab-df-container {\n",
              "      display:flex;\n",
              "      flex-wrap:wrap;\n",
              "      gap: 12px;\n",
              "    }\n",
              "\n",
              "    .colab-df-convert {\n",
              "      background-color: #E8F0FE;\n",
              "      border: none;\n",
              "      border-radius: 50%;\n",
              "      cursor: pointer;\n",
              "      display: none;\n",
              "      fill: #1967D2;\n",
              "      height: 32px;\n",
              "      padding: 0 0 0 0;\n",
              "      width: 32px;\n",
              "    }\n",
              "\n",
              "    .colab-df-convert:hover {\n",
              "      background-color: #E2EBFA;\n",
              "      box-shadow: 0px 1px 2px rgba(60, 64, 67, 0.3), 0px 1px 3px 1px rgba(60, 64, 67, 0.15);\n",
              "      fill: #174EA6;\n",
              "    }\n",
              "\n",
              "    [theme=dark] .colab-df-convert {\n",
              "      background-color: #3B4455;\n",
              "      fill: #D2E3FC;\n",
              "    }\n",
              "\n",
              "    [theme=dark] .colab-df-convert:hover {\n",
              "      background-color: #434B5C;\n",
              "      box-shadow: 0px 1px 3px 1px rgba(0, 0, 0, 0.15);\n",
              "      filter: drop-shadow(0px 1px 2px rgba(0, 0, 0, 0.3));\n",
              "      fill: #FFFFFF;\n",
              "    }\n",
              "  </style>\n",
              "\n",
              "      <script>\n",
              "        const buttonEl =\n",
              "          document.querySelector('#df-2056b80a-57ea-43ef-9fea-b069cd1d4e5f button.colab-df-convert');\n",
              "        buttonEl.style.display =\n",
              "          google.colab.kernel.accessAllowed ? 'block' : 'none';\n",
              "\n",
              "        async function convertToInteractive(key) {\n",
              "          const element = document.querySelector('#df-2056b80a-57ea-43ef-9fea-b069cd1d4e5f');\n",
              "          const dataTable =\n",
              "            await google.colab.kernel.invokeFunction('convertToInteractive',\n",
              "                                                     [key], {});\n",
              "          if (!dataTable) return;\n",
              "\n",
              "          const docLinkHtml = 'Like what you see? Visit the ' +\n",
              "            '<a target=\"_blank\" href=https://colab.research.google.com/notebooks/data_table.ipynb>data table notebook</a>'\n",
              "            + ' to learn more about interactive tables.';\n",
              "          element.innerHTML = '';\n",
              "          dataTable['output_type'] = 'display_data';\n",
              "          await google.colab.output.renderOutput(dataTable, element);\n",
              "          const docLink = document.createElement('div');\n",
              "          docLink.innerHTML = docLinkHtml;\n",
              "          element.appendChild(docLink);\n",
              "        }\n",
              "      </script>\n",
              "    </div>\n",
              "  </div>\n",
              "  "
            ]
          },
          "metadata": {},
          "execution_count": 67
        }
      ]
    },
    {
      "cell_type": "code",
      "source": [
        "data.info()"
      ],
      "metadata": {
        "colab": {
          "base_uri": "https://localhost:8080/"
        },
        "id": "JJvJNn9PE5Fi",
        "outputId": "5086acd8-4c22-4aa7-a219-474bf09214b8"
      },
      "execution_count": null,
      "outputs": [
        {
          "output_type": "stream",
          "name": "stdout",
          "text": [
            "<class 'pandas.core.frame.DataFrame'>\n",
            "RangeIndex: 395 entries, 0 to 394\n",
            "Data columns (total 33 columns):\n",
            " #   Column      Non-Null Count  Dtype \n",
            "---  ------      --------------  ----- \n",
            " 0   school      395 non-null    object\n",
            " 1   sex         395 non-null    object\n",
            " 2   age         395 non-null    int64 \n",
            " 3   address     395 non-null    object\n",
            " 4   famsize     395 non-null    object\n",
            " 5   Pstatus     395 non-null    object\n",
            " 6   Medu        395 non-null    int64 \n",
            " 7   Fedu        395 non-null    int64 \n",
            " 8   Mjob        395 non-null    object\n",
            " 9   Fjob        395 non-null    object\n",
            " 10  reason      395 non-null    object\n",
            " 11  guardian    395 non-null    object\n",
            " 12  traveltime  395 non-null    int64 \n",
            " 13  studytime   395 non-null    int64 \n",
            " 14  failures    395 non-null    int64 \n",
            " 15  schoolsup   395 non-null    object\n",
            " 16  famsup      395 non-null    object\n",
            " 17  paid        395 non-null    object\n",
            " 18  activities  395 non-null    object\n",
            " 19  nursery     395 non-null    object\n",
            " 20  higher      395 non-null    object\n",
            " 21  internet    395 non-null    object\n",
            " 22  romantic    395 non-null    object\n",
            " 23  famrel      395 non-null    int64 \n",
            " 24  freetime    395 non-null    int64 \n",
            " 25  goout       395 non-null    int64 \n",
            " 26  Dalc        395 non-null    int64 \n",
            " 27  Walc        395 non-null    int64 \n",
            " 28  health      395 non-null    int64 \n",
            " 29  absences    395 non-null    int64 \n",
            " 30  G1          395 non-null    int64 \n",
            " 31  G2          395 non-null    int64 \n",
            " 32  G3          395 non-null    int64 \n",
            "dtypes: int64(16), object(17)\n",
            "memory usage: 102.0+ KB\n"
          ]
        }
      ]
    },
    {
      "cell_type": "code",
      "source": [
        "data.shape"
      ],
      "metadata": {
        "colab": {
          "base_uri": "https://localhost:8080/"
        },
        "id": "5L7TdtowQXRL",
        "outputId": "475aa490-0493-4503-8b1e-b04f1247f104"
      },
      "execution_count": null,
      "outputs": [
        {
          "output_type": "execute_result",
          "data": {
            "text/plain": [
              "(395, 33)"
            ]
          },
          "metadata": {},
          "execution_count": 69
        }
      ]
    },
    {
      "cell_type": "markdown",
      "source": [
        "## Data Preparation, Preprocessing, dan Transformation"
      ],
      "metadata": {
        "id": "DjZrV9cLPiSS"
      }
    },
    {
      "cell_type": "markdown",
      "source": [
        "### Missing Value"
      ],
      "metadata": {
        "id": "ZXOiYMjme--m"
      }
    },
    {
      "cell_type": "code",
      "source": [
        "data.isna().sum()"
      ],
      "metadata": {
        "colab": {
          "base_uri": "https://localhost:8080/"
        },
        "id": "tMe-6JXrh0ja",
        "outputId": "a4cecd7b-7ead-430b-d32e-c9ce8a6f4600"
      },
      "execution_count": null,
      "outputs": [
        {
          "output_type": "execute_result",
          "data": {
            "text/plain": [
              "school        0\n",
              "sex           0\n",
              "age           0\n",
              "address       0\n",
              "famsize       0\n",
              "Pstatus       0\n",
              "Medu          0\n",
              "Fedu          0\n",
              "Mjob          0\n",
              "Fjob          0\n",
              "reason        0\n",
              "guardian      0\n",
              "traveltime    0\n",
              "studytime     0\n",
              "failures      0\n",
              "schoolsup     0\n",
              "famsup        0\n",
              "paid          0\n",
              "activities    0\n",
              "nursery       0\n",
              "higher        0\n",
              "internet      0\n",
              "romantic      0\n",
              "famrel        0\n",
              "freetime      0\n",
              "goout         0\n",
              "Dalc          0\n",
              "Walc          0\n",
              "health        0\n",
              "absences      0\n",
              "G1            0\n",
              "G2            0\n",
              "G3            0\n",
              "dtype: int64"
            ]
          },
          "metadata": {},
          "execution_count": 70
        }
      ]
    },
    {
      "cell_type": "code",
      "source": [
        "data.isnull().values.any()"
      ],
      "metadata": {
        "colab": {
          "base_uri": "https://localhost:8080/"
        },
        "id": "LSjlQsOrhdpU",
        "outputId": "a6def113-c970-4879-fd20-6248beb6aa1a"
      },
      "execution_count": null,
      "outputs": [
        {
          "output_type": "execute_result",
          "data": {
            "text/plain": [
              "False"
            ]
          },
          "metadata": {},
          "execution_count": 71
        }
      ]
    },
    {
      "cell_type": "markdown",
      "source": [
        "### Cek data duplikat"
      ],
      "metadata": {
        "id": "QWaE_bxyQmZ1"
      }
    },
    {
      "cell_type": "code",
      "source": [
        "data.duplicated().sum()"
      ],
      "metadata": {
        "colab": {
          "base_uri": "https://localhost:8080/"
        },
        "id": "s9tBWDFKQqsQ",
        "outputId": "26f50c66-944d-49b6-a3d1-4a977b2ef6f2"
      },
      "execution_count": null,
      "outputs": [
        {
          "output_type": "execute_result",
          "data": {
            "text/plain": [
              "0"
            ]
          },
          "metadata": {},
          "execution_count": 72
        }
      ]
    },
    {
      "cell_type": "markdown",
      "source": [
        "### Cek Outlier"
      ],
      "metadata": {
        "id": "ulx7D_sbAbPN"
      }
    },
    {
      "cell_type": "markdown",
      "source": [
        "Sebelum mengatasi outlier"
      ],
      "metadata": {
        "id": "4RjXPHMhDaGR"
      }
    },
    {
      "cell_type": "code",
      "source": [
        "import seaborn as sns\n",
        "\n",
        "sns.boxplot(data=data)"
      ],
      "metadata": {
        "colab": {
          "base_uri": "https://localhost:8080/",
          "height": 447
        },
        "id": "fB-N2XfQAphw",
        "outputId": "5aef8234-1120-4b9f-ec4f-4db4abfa71f6"
      },
      "execution_count": null,
      "outputs": [
        {
          "output_type": "execute_result",
          "data": {
            "text/plain": [
              "<Axes: >"
            ]
          },
          "metadata": {},
          "execution_count": 73
        },
        {
          "output_type": "display_data",
          "data": {
            "text/plain": [
              "<Figure size 640x480 with 1 Axes>"
            ],
            "image/png": "[encoded data removed]"
          },
          "metadata": {}
        }
      ]
    },
    {
      "cell_type": "markdown",
      "source": [
        "Setelah mengatasi outlier"
      ],
      "metadata": {
        "id": "kkRtTQU6B1Lf"
      }
    },
    {
      "cell_type": "code",
      "source": [
        "numeric_cols = data.select_dtypes(include=['int64', 'float64']).columns.tolist()\n",
        "df_numeric = data[numeric_cols]"
      ],
      "metadata": {
        "id": "zGHliqsRI_X2"
      },
      "execution_count": null,
      "outputs": []
    },
    {
      "cell_type": "code",
      "source": [
        "df_numeric.head()"
      ],
      "metadata": {
        "colab": {
          "base_uri": "https://localhost:8080/",
          "height": 250
        },
        "id": "bW6IKeOBJ1ak",
        "outputId": "1fdbc215-b6c6-4fc2-9cd1-ed710b44515f"
      },
      "execution_count": null,
      "outputs": [
        {
          "output_type": "execute_result",
          "data": {
            "text/plain": [
              "   age  Medu  Fedu  traveltime  studytime  failures  famrel  freetime  goout  \\\n",
              "0   18     4     4           2          2         0       4         3      4   \n",
              "1   17     1     1           1          2         0       5         3      3   \n",
              "2   15     1     1           1          2         3       4         3      2   \n",
              "3   15     4     2           1          3         0       3         2      2   \n",
              "4   16     3     3           1          2         0       4         3      2   \n",
              "\n",
              "   Dalc  Walc  health  absences  G1  G2  G3  \n",
              "0     1     1       3         6   5   6   6  \n",
              "1     1     1       3         4   5   5   6  \n",
              "2     2     3       3        10   7   8  10  \n",
              "3     1     1       5         2  15  14  15  \n",
              "4     1     2       5         4   6  10  10  "
            ],
            "text/html": [
              "\n",
              "  <div id=\"df-1333c818-d511-4ed7-ae14-a824669b3046\">\n",
              "    <div class=\"colab-df-container\">\n",
              "      <div>\n",
              "<style scoped>\n",
              "    .dataframe tbody tr th:only-of-type {\n",
              "        vertical-align: middle;\n",
              "    }\n",
              "\n",
              "    .dataframe tbody tr th {\n",
              "        vertical-align: top;\n",
              "    }\n",
              "\n",
              "    .dataframe thead th {\n",
              "        text-align: right;\n",
              "    }\n",
              "</style>\n",
              "<table border=\"1\" class=\"dataframe\">\n",
              "  <thead>\n",
              "    <tr style=\"text-align: right;\">\n",
              "      <th></th>\n",
              "      <th>age</th>\n",
              "      <th>Medu</th>\n",
              "      <th>Fedu</th>\n",
              "      <th>traveltime</th>\n",
              "      <th>studytime</th>\n",
              "      <th>failures</th>\n",
              "      <th>famrel</th>\n",
              "      <th>freetime</th>\n",
              "      <th>goout</th>\n",
              "      <th>Dalc</th>\n",
              "      <th>Walc</th>\n",
              "      <th>health</th>\n",
              "      <th>absences</th>\n",
              "      <th>G1</th>\n",
              "      <th>G2</th>\n",
              "      <th>G3</th>\n",
              "    </tr>\n",
              "  </thead>\n",
              "  <tbody>\n",
              "    <tr>\n",
              "      <th>0</th>\n",
              "      <td>18</td>\n",
              "      <td>4</td>\n",
              "      <td>4</td>\n",
              "      <td>2</td>\n",
              "      <td>2</td>\n",
              "      <td>0</td>\n",
              "      <td>4</td>\n",
              "      <td>3</td>\n",
              "      <td>4</td>\n",
              "      <td>1</td>\n",
              "      <td>1</td>\n",
              "      <td>3</td>\n",
              "      <td>6</td>\n",
              "      <td>5</td>\n",
              "      <td>6</td>\n",
              "      <td>6</td>\n",
              "    </tr>\n",
              "    <tr>\n",
              "      <th>1</th>\n",
              "      <td>17</td>\n",
              "      <td>1</td>\n",
              "      <td>1</td>\n",
              "      <td>1</td>\n",
              "      <td>2</td>\n",
              "      <td>0</td>\n",
              "      <td>5</td>\n",
              "      <td>3</td>\n",
              "      <td>3</td>\n",
              "      <td>1</td>\n",
              "      <td>1</td>\n",
              "      <td>3</td>\n",
              "      <td>4</td>\n",
              "      <td>5</td>\n",
              "      <td>5</td>\n",
              "      <td>6</td>\n",
              "    </tr>\n",
              "    <tr>\n",
              "      <th>2</th>\n",
              "      <td>15</td>\n",
              "      <td>1</td>\n",
              "      <td>1</td>\n",
              "      <td>1</td>\n",
              "      <td>2</td>\n",
              "      <td>3</td>\n",
              "      <td>4</td>\n",
              "      <td>3</td>\n",
              "      <td>2</td>\n",
              "      <td>2</td>\n",
              "      <td>3</td>\n",
              "      <td>3</td>\n",
              "      <td>10</td>\n",
              "      <td>7</td>\n",
              "      <td>8</td>\n",
              "      <td>10</td>\n",
              "    </tr>\n",
              "    <tr>\n",
              "      <th>3</th>\n",
              "      <td>15</td>\n",
              "      <td>4</td>\n",
              "      <td>2</td>\n",
              "      <td>1</td>\n",
              "      <td>3</td>\n",
              "      <td>0</td>\n",
              "      <td>3</td>\n",
              "      <td>2</td>\n",
              "      <td>2</td>\n",
              "      <td>1</td>\n",
              "      <td>1</td>\n",
              "      <td>5</td>\n",
              "      <td>2</td>\n",
              "      <td>15</td>\n",
              "      <td>14</td>\n",
              "      <td>15</td>\n",
              "    </tr>\n",
              "    <tr>\n",
              "      <th>4</th>\n",
              "      <td>16</td>\n",
              "      <td>3</td>\n",
              "      <td>3</td>\n",
              "      <td>1</td>\n",
              "      <td>2</td>\n",
              "      <td>0</td>\n",
              "      <td>4</td>\n",
              "      <td>3</td>\n",
              "      <td>2</td>\n",
              "      <td>1</td>\n",
              "      <td>2</td>\n",
              "      <td>5</td>\n",
              "      <td>4</td>\n",
              "      <td>6</td>\n",
              "      <td>10</td>\n",
              "      <td>10</td>\n",
              "    </tr>\n",
              "  </tbody>\n",
              "</table>\n",
              "</div>\n",
              "      <button class=\"colab-df-convert\" onclick=\"convertToInteractive('df-1333c818-d511-4ed7-ae14-a824669b3046')\"\n",
              "              title=\"Convert this dataframe to an interactive table.\"\n",
              "              style=\"display:none;\">\n",
              "        \n",
              "  <svg xmlns=\"http://www.w3.org/2000/svg\" height=\"24px\"viewBox=\"0 0 24 24\"\n",
              "       width=\"24px\">\n",
              "    <path d=\"M0 0h24v24H0V0z\" fill=\"none\"/>\n",
              "    <path d=\"M18.56 5.44l.94 2.06.94-2.06 2.06-.94-2.06-.94-.94-2.06-.94 2.06-2.06.94zm-11 1L8.5 8.5l.94-2.06 2.06-.94-2.06-.94L8.5 2.5l-.94 2.06-2.06.94zm10 10l.94 2.06.94-2.06 2.06-.94-2.06-.94-.94-2.06-.94 2.06-2.06.94z\"/><path d=\"M17.41 7.96l-1.37-1.37c-.4-.4-.92-.59-1.43-.59-.52 0-1.04.2-1.43.59L10.3 9.45l-7.72 7.72c-.78.78-.78 2.05 0 2.83L4 21.41c.39.39.9.59 1.41.59.51 0 1.02-.2 1.41-.59l7.78-7.78 2.81-2.81c.8-.78.8-2.07 0-2.86zM5.41 20L4 18.59l7.72-7.72 1.47 1.35L5.41 20z\"/>\n",
              "  </svg>\n",
              "      </button>\n",
              "      \n",
              "  <style>\n",
              "    .colab-df-container {\n",
              "      display:flex;\n",
              "      flex-wrap:wrap;\n",
              "      gap: 12px;\n",
              "    }\n",
              "\n",
              "    .colab-df-convert {\n",
              "      background-color: #E8F0FE;\n",
              "      border: none;\n",
              "      border-radius: 50%;\n",
              "      cursor: pointer;\n",
              "      display: none;\n",
              "      fill: #1967D2;\n",
              "      height: 32px;\n",
              "      padding: 0 0 0 0;\n",
              "      width: 32px;\n",
              "    }\n",
              "\n",
              "    .colab-df-convert:hover {\n",
              "      background-color: #E2EBFA;\n",
              "      box-shadow: 0px 1px 2px rgba(60, 64, 67, 0.3), 0px 1px 3px 1px rgba(60, 64, 67, 0.15);\n",
              "      fill: #174EA6;\n",
              "    }\n",
              "\n",
              "    [theme=dark] .colab-df-convert {\n",
              "      background-color: #3B4455;\n",
              "      fill: #D2E3FC;\n",
              "    }\n",
              "\n",
              "    [theme=dark] .colab-df-convert:hover {\n",
              "      background-color: #434B5C;\n",
              "      box-shadow: 0px 1px 3px 1px rgba(0, 0, 0, 0.15);\n",
              "      filter: drop-shadow(0px 1px 2px rgba(0, 0, 0, 0.3));\n",
              "      fill: #FFFFFF;\n",
              "    }\n",
              "  </style>\n",
              "\n",
              "      <script>\n",
              "        const buttonEl =\n",
              "          document.querySelector('#df-1333c818-d511-4ed7-ae14-a824669b3046 button.colab-df-convert');\n",
              "        buttonEl.style.display =\n",
              "          google.colab.kernel.accessAllowed ? 'block' : 'none';\n",
              "\n",
              "        async function convertToInteractive(key) {\n",
              "          const element = document.querySelector('#df-1333c818-d511-4ed7-ae14-a824669b3046');\n",
              "          const dataTable =\n",
              "            await google.colab.kernel.invokeFunction('convertToInteractive',\n",
              "                                                     [key], {});\n",
              "          if (!dataTable) return;\n",
              "\n",
              "          const docLinkHtml = 'Like what you see? Visit the ' +\n",
              "            '<a target=\"_blank\" href=https://colab.research.google.com/notebooks/data_table.ipynb>data table notebook</a>'\n",
              "            + ' to learn more about interactive tables.';\n",
              "          element.innerHTML = '';\n",
              "          dataTable['output_type'] = 'display_data';\n",
              "          await google.colab.output.renderOutput(dataTable, element);\n",
              "          const docLink = document.createElement('div');\n",
              "          docLink.innerHTML = docLinkHtml;\n",
              "          element.appendChild(docLink);\n",
              "        }\n",
              "      </script>\n",
              "    </div>\n",
              "  </div>\n",
              "  "
            ]
          },
          "metadata": {},
          "execution_count": 75
        }
      ]
    },
    {
      "cell_type": "code",
      "source": [
        "from scipy import stats\n",
        "\n",
        "z = np.abs(stats.zscore(df_numeric))\n",
        "threshold = 3\n",
        "data = data[(z < threshold).all(axis=1)]"
      ],
      "metadata": {
        "id": "0pauX5OcDm84"
      },
      "execution_count": null,
      "outputs": []
    },
    {
      "cell_type": "code",
      "source": [
        "sns.boxplot(data=data)"
      ],
      "metadata": {
        "colab": {
          "base_uri": "https://localhost:8080/",
          "height": 447
        },
        "id": "JhZdQbKbK4hJ",
        "outputId": "a071908f-8074-4312-8c98-7e88fa737c91"
      },
      "execution_count": null,
      "outputs": [
        {
          "output_type": "execute_result",
          "data": {
            "text/plain": [
              "<Axes: >"
            ]
          },
          "metadata": {},
          "execution_count": 77
        },
        {
          "output_type": "display_data",
          "data": {
            "text/plain": [
              "<Figure size 640x480 with 1 Axes>"
            ],
            "image/png": "[encoded data removed]"
          },
          "metadata": {}
        }
      ]
    },
    {
      "cell_type": "code",
      "source": [
        "data.head()"
      ],
      "metadata": {
        "colab": {
          "base_uri": "https://localhost:8080/",
          "height": 299
        },
        "id": "QuyWdHaQRKpy",
        "outputId": "6569a61a-2887-4ea0-e112-88aa12a00f0b"
      },
      "execution_count": null,
      "outputs": [
        {
          "output_type": "execute_result",
          "data": {
            "text/plain": [
              "  school sex  age address famsize Pstatus  Medu  Fedu      Mjob      Fjob  \\\n",
              "0     GP   F   18       U     GT3       A     4     4   at_home   teacher   \n",
              "1     GP   F   17       U     GT3       T     1     1   at_home     other   \n",
              "3     GP   F   15       U     GT3       T     4     2    health  services   \n",
              "4     GP   F   16       U     GT3       T     3     3     other     other   \n",
              "5     GP   M   16       U     LE3       T     4     3  services     other   \n",
              "\n",
              "   ... famrel freetime  goout  Dalc  Walc health absences  G1  G2  G3  \n",
              "0  ...      4        3      4     1     1      3        6   5   6   6  \n",
              "1  ...      5        3      3     1     1      3        4   5   5   6  \n",
              "3  ...      3        2      2     1     1      5        2  15  14  15  \n",
              "4  ...      4        3      2     1     2      5        4   6  10  10  \n",
              "5  ...      5        4      2     1     2      5       10  15  15  15  \n",
              "\n",
              "[5 rows x 33 columns]"
            ],
            "text/html": [
              "\n",
              "  <div id=\"df-01af3d46-56da-4b50-9a2e-c8170013da59\">\n",
              "    <div class=\"colab-df-container\">\n",
              "      <div>\n",
              "<style scoped>\n",
              "    .dataframe tbody tr th:only-of-type {\n",
              "        vertical-align: middle;\n",
              "    }\n",
              "\n",
              "    .dataframe tbody tr th {\n",
              "        vertical-align: top;\n",
              "    }\n",
              "\n",
              "    .dataframe thead th {\n",
              "        text-align: right;\n",
              "    }\n",
              "</style>\n",
              "<table border=\"1\" class=\"dataframe\">\n",
              "  <thead>\n",
              "    <tr style=\"text-align: right;\">\n",
              "      <th></th>\n",
              "      <th>school</th>\n",
              "      <th>sex</th>\n",
              "      <th>age</th>\n",
              "      <th>address</th>\n",
              "      <th>famsize</th>\n",
              "      <th>Pstatus</th>\n",
              "      <th>Medu</th>\n",
              "      <th>Fedu</th>\n",
              "      <th>Mjob</th>\n",
              "      <th>Fjob</th>\n",
              "      <th>...</th>\n",
              "      <th>famrel</th>\n",
              "      <th>freetime</th>\n",
              "      <th>goout</th>\n",
              "      <th>Dalc</th>\n",
              "      <th>Walc</th>\n",
              "      <th>health</th>\n",
              "      <th>absences</th>\n",
              "      <th>G1</th>\n",
              "      <th>G2</th>\n",
              "      <th>G3</th>\n",
              "    </tr>\n",
              "  </thead>\n",
              "  <tbody>\n",
              "    <tr>\n",
              "      <th>0</th>\n",
              "      <td>GP</td>\n",
              "      <td>F</td>\n",
              "      <td>18</td>\n",
              "      <td>U</td>\n",
              "      <td>GT3</td>\n",
              "      <td>A</td>\n",
              "      <td>4</td>\n",
              "      <td>4</td>\n",
              "      <td>at_home</td>\n",
              "      <td>teacher</td>\n",
              "      <td>...</td>\n",
              "      <td>4</td>\n",
              "      <td>3</td>\n",
              "      <td>4</td>\n",
              "      <td>1</td>\n",
              "      <td>1</td>\n",
              "      <td>3</td>\n",
              "      <td>6</td>\n",
              "      <td>5</td>\n",
              "      <td>6</td>\n",
              "      <td>6</td>\n",
              "    </tr>\n",
              "    <tr>\n",
              "      <th>1</th>\n",
              "      <td>GP</td>\n",
              "      <td>F</td>\n",
              "      <td>17</td>\n",
              "      <td>U</td>\n",
              "      <td>GT3</td>\n",
              "      <td>T</td>\n",
              "      <td>1</td>\n",
              "      <td>1</td>\n",
              "      <td>at_home</td>\n",
              "      <td>other</td>\n",
              "      <td>...</td>\n",
              "      <td>5</td>\n",
              "      <td>3</td>\n",
              "      <td>3</td>\n",
              "      <td>1</td>\n",
              "      <td>1</td>\n",
              "      <td>3</td>\n",
              "      <td>4</td>\n",
              "      <td>5</td>\n",
              "      <td>5</td>\n",
              "      <td>6</td>\n",
              "    </tr>\n",
              "    <tr>\n",
              "      <th>3</th>\n",
              "      <td>GP</td>\n",
              "      <td>F</td>\n",
              "      <td>15</td>\n",
              "      <td>U</td>\n",
              "      <td>GT3</td>\n",
              "      <td>T</td>\n",
              "      <td>4</td>\n",
              "      <td>2</td>\n",
              "      <td>health</td>\n",
              "      <td>services</td>\n",
              "      <td>...</td>\n",
              "      <td>3</td>\n",
              "      <td>2</td>\n",
              "      <td>2</td>\n",
              "      <td>1</td>\n",
              "      <td>1</td>\n",
              "      <td>5</td>\n",
              "      <td>2</td>\n",
              "      <td>15</td>\n",
              "      <td>14</td>\n",
              "      <td>15</td>\n",
              "    </tr>\n",
              "    <tr>\n",
              "      <th>4</th>\n",
              "      <td>GP</td>\n",
              "      <td>F</td>\n",
              "      <td>16</td>\n",
              "      <td>U</td>\n",
              "      <td>GT3</td>\n",
              "      <td>T</td>\n",
              "      <td>3</td>\n",
              "      <td>3</td>\n",
              "      <td>other</td>\n",
              "      <td>other</td>\n",
              "      <td>...</td>\n",
              "      <td>4</td>\n",
              "      <td>3</td>\n",
              "      <td>2</td>\n",
              "      <td>1</td>\n",
              "      <td>2</td>\n",
              "      <td>5</td>\n",
              "      <td>4</td>\n",
              "      <td>6</td>\n",
              "      <td>10</td>\n",
              "      <td>10</td>\n",
              "    </tr>\n",
              "    <tr>\n",
              "      <th>5</th>\n",
              "      <td>GP</td>\n",
              "      <td>M</td>\n",
              "      <td>16</td>\n",
              "      <td>U</td>\n",
              "      <td>LE3</td>\n",
              "      <td>T</td>\n",
              "      <td>4</td>\n",
              "      <td>3</td>\n",
              "      <td>services</td>\n",
              "      <td>other</td>\n",
              "      <td>...</td>\n",
              "      <td>5</td>\n",
              "      <td>4</td>\n",
              "      <td>2</td>\n",
              "      <td>1</td>\n",
              "      <td>2</td>\n",
              "      <td>5</td>\n",
              "      <td>10</td>\n",
              "      <td>15</td>\n",
              "      <td>15</td>\n",
              "      <td>15</td>\n",
              "    </tr>\n",
              "  </tbody>\n",
              "</table>\n",
              "<p>5 rows × 33 columns</p>\n",
              "</div>\n",
              "      <button class=\"colab-df-convert\" onclick=\"convertToInteractive('df-01af3d46-56da-4b50-9a2e-c8170013da59')\"\n",
              "              title=\"Convert this dataframe to an interactive table.\"\n",
              "              style=\"display:none;\">\n",
              "        \n",
              "  <svg xmlns=\"http://www.w3.org/2000/svg\" height=\"24px\"viewBox=\"0 0 24 24\"\n",
              "       width=\"24px\">\n",
              "    <path d=\"M0 0h24v24H0V0z\" fill=\"none\"/>\n",
              "    <path d=\"M18.56 5.44l.94 2.06.94-2.06 2.06-.94-2.06-.94-.94-2.06-.94 2.06-2.06.94zm-11 1L8.5 8.5l.94-2.06 2.06-.94-2.06-.94L8.5 2.5l-.94 2.06-2.06.94zm10 10l.94 2.06.94-2.06 2.06-.94-2.06-.94-.94-2.06-.94 2.06-2.06.94z\"/><path d=\"M17.41 7.96l-1.37-1.37c-.4-.4-.92-.59-1.43-.59-.52 0-1.04.2-1.43.59L10.3 9.45l-7.72 7.72c-.78.78-.78 2.05 0 2.83L4 21.41c.39.39.9.59 1.41.59.51 0 1.02-.2 1.41-.59l7.78-7.78 2.81-2.81c.8-.78.8-2.07 0-2.86zM5.41 20L4 18.59l7.72-7.72 1.47 1.35L5.41 20z\"/>\n",
              "  </svg>\n",
              "      </button>\n",
              "      \n",
              "  <style>\n",
              "    .colab-df-container {\n",
              "      display:flex;\n",
              "      flex-wrap:wrap;\n",
              "      gap: 12px;\n",
              "    }\n",
              "\n",
              "    .colab-df-convert {\n",
              "      background-color: #E8F0FE;\n",
              "      border: none;\n",
              "      border-radius: 50%;\n",
              "      cursor: pointer;\n",
              "      display: none;\n",
              "      fill: #1967D2;\n",
              "      height: 32px;\n",
              "      padding: 0 0 0 0;\n",
              "      width: 32px;\n",
              "    }\n",
              "\n",
              "    .colab-df-convert:hover {\n",
              "      background-color: #E2EBFA;\n",
              "      box-shadow: 0px 1px 2px rgba(60, 64, 67, 0.3), 0px 1px 3px 1px rgba(60, 64, 67, 0.15);\n",
              "      fill: #174EA6;\n",
              "    }\n",
              "\n",
              "    [theme=dark] .colab-df-convert {\n",
              "      background-color: #3B4455;\n",
              "      fill: #D2E3FC;\n",
              "    }\n",
              "\n",
              "    [theme=dark] .colab-df-convert:hover {\n",
              "      background-color: #434B5C;\n",
              "      box-shadow: 0px 1px 3px 1px rgba(0, 0, 0, 0.15);\n",
              "      filter: drop-shadow(0px 1px 2px rgba(0, 0, 0, 0.3));\n",
              "      fill: #FFFFFF;\n",
              "    }\n",
              "  </style>\n",
              "\n",
              "      <script>\n",
              "        const buttonEl =\n",
              "          document.querySelector('#df-01af3d46-56da-4b50-9a2e-c8170013da59 button.colab-df-convert');\n",
              "        buttonEl.style.display =\n",
              "          google.colab.kernel.accessAllowed ? 'block' : 'none';\n",
              "\n",
              "        async function convertToInteractive(key) {\n",
              "          const element = document.querySelector('#df-01af3d46-56da-4b50-9a2e-c8170013da59');\n",
              "          const dataTable =\n",
              "            await google.colab.kernel.invokeFunction('convertToInteractive',\n",
              "                                                     [key], {});\n",
              "          if (!dataTable) return;\n",
              "\n",
              "          const docLinkHtml = 'Like what you see? Visit the ' +\n",
              "            '<a target=\"_blank\" href=https://colab.research.google.com/notebooks/data_table.ipynb>data table notebook</a>'\n",
              "            + ' to learn more about interactive tables.';\n",
              "          element.innerHTML = '';\n",
              "          dataTable['output_type'] = 'display_data';\n",
              "          await google.colab.output.renderOutput(dataTable, element);\n",
              "          const docLink = document.createElement('div');\n",
              "          docLink.innerHTML = docLinkHtml;\n",
              "          element.appendChild(docLink);\n",
              "        }\n",
              "      </script>\n",
              "    </div>\n",
              "  </div>\n",
              "  "
            ]
          },
          "metadata": {},
          "execution_count": 78
        }
      ]
    },
    {
      "cell_type": "markdown",
      "source": [
        "### Cek fitur penting dengan menggunakan Random Forest"
      ],
      "metadata": {
        "id": "XOZcG4Jdh8yk"
      }
    },
    {
      "cell_type": "markdown",
      "source": [
        "Rubah variabel kategorikal ke numerik dengan menggunakan one-hot encoding"
      ],
      "metadata": {
        "id": "El9i_T-lVPGY"
      }
    },
    {
      "cell_type": "code",
      "source": [
        "string_cols = data.select_dtypes(include=['object']).columns.tolist()\n",
        "df_string = data[string_cols]"
      ],
      "metadata": {
        "id": "kuOol5xqVOml"
      },
      "execution_count": null,
      "outputs": []
    },
    {
      "cell_type": "code",
      "source": [
        "from sklearn.ensemble import RandomForestClassifier\n",
        "\n",
        "df = data.copy(deep = True)\n",
        "list_columns = df_string.columns\n",
        "\n",
        "for column in list_columns:\n",
        "  df = pd.get_dummies(df, columns=[column])"
      ],
      "metadata": {
        "id": "JFILYkMVh_dD"
      },
      "execution_count": null,
      "outputs": []
    },
    {
      "cell_type": "code",
      "source": [
        "df.info()"
      ],
      "metadata": {
        "colab": {
          "base_uri": "https://localhost:8080/"
        },
        "id": "sc-1dQ5OjLzb",
        "outputId": "1665dfe2-b446-43f5-df28-3eda7224dd46"
      },
      "execution_count": null,
      "outputs": [
        {
          "output_type": "stream",
          "name": "stdout",
          "text": [
            "<class 'pandas.core.frame.DataFrame'>\n",
            "Int64Index: 355 entries, 0 to 394\n",
            "Data columns (total 59 columns):\n",
            " #   Column             Non-Null Count  Dtype\n",
            "---  ------             --------------  -----\n",
            " 0   age                355 non-null    int64\n",
            " 1   Medu               355 non-null    int64\n",
            " 2   Fedu               355 non-null    int64\n",
            " 3   traveltime         355 non-null    int64\n",
            " 4   studytime          355 non-null    int64\n",
            " 5   failures           355 non-null    int64\n",
            " 6   famrel             355 non-null    int64\n",
            " 7   freetime           355 non-null    int64\n",
            " 8   goout              355 non-null    int64\n",
            " 9   Dalc               355 non-null    int64\n",
            " 10  Walc               355 non-null    int64\n",
            " 11  health             355 non-null    int64\n",
            " 12  absences           355 non-null    int64\n",
            " 13  G1                 355 non-null    int64\n",
            " 14  G2                 355 non-null    int64\n",
            " 15  G3                 355 non-null    int64\n",
            " 16  school_GP          355 non-null    uint8\n",
            " 17  school_MS          355 non-null    uint8\n",
            " 18  sex_F              355 non-null    uint8\n",
            " 19  sex_M              355 non-null    uint8\n",
            " 20  address_R          355 non-null    uint8\n",
            " 21  address_U          355 non-null    uint8\n",
            " 22  famsize_GT3        355 non-null    uint8\n",
            " 23  famsize_LE3        355 non-null    uint8\n",
            " 24  Pstatus_A          355 non-null    uint8\n",
            " 25  Pstatus_T          355 non-null    uint8\n",
            " 26  Mjob_at_home       355 non-null    uint8\n",
            " 27  Mjob_health        355 non-null    uint8\n",
            " 28  Mjob_other         355 non-null    uint8\n",
            " 29  Mjob_services      355 non-null    uint8\n",
            " 30  Mjob_teacher       355 non-null    uint8\n",
            " 31  Fjob_at_home       355 non-null    uint8\n",
            " 32  Fjob_health        355 non-null    uint8\n",
            " 33  Fjob_other         355 non-null    uint8\n",
            " 34  Fjob_services      355 non-null    uint8\n",
            " 35  Fjob_teacher       355 non-null    uint8\n",
            " 36  reason_course      355 non-null    uint8\n",
            " 37  reason_home        355 non-null    uint8\n",
            " 38  reason_other       355 non-null    uint8\n",
            " 39  reason_reputation  355 non-null    uint8\n",
            " 40  guardian_father    355 non-null    uint8\n",
            " 41  guardian_mother    355 non-null    uint8\n",
            " 42  guardian_other     355 non-null    uint8\n",
            " 43  schoolsup_no       355 non-null    uint8\n",
            " 44  schoolsup_yes      355 non-null    uint8\n",
            " 45  famsup_no          355 non-null    uint8\n",
            " 46  famsup_yes         355 non-null    uint8\n",
            " 47  paid_no            355 non-null    uint8\n",
            " 48  paid_yes           355 non-null    uint8\n",
            " 49  activities_no      355 non-null    uint8\n",
            " 50  activities_yes     355 non-null    uint8\n",
            " 51  nursery_no         355 non-null    uint8\n",
            " 52  nursery_yes        355 non-null    uint8\n",
            " 53  higher_no          355 non-null    uint8\n",
            " 54  higher_yes         355 non-null    uint8\n",
            " 55  internet_no        355 non-null    uint8\n",
            " 56  internet_yes       355 non-null    uint8\n",
            " 57  romantic_no        355 non-null    uint8\n",
            " 58  romantic_yes       355 non-null    uint8\n",
            "dtypes: int64(16), uint8(43)\n",
            "memory usage: 62.1 KB\n"
          ]
        }
      ]
    },
    {
      "cell_type": "code",
      "source": [
        "import matplotlib.pyplot as plt\n",
        "\n",
        "X = df.drop('G3', axis=1)\n",
        "y = df['G3']\n",
        "\n",
        "rfc = RandomForestClassifier()\n",
        "rfc.fit(X, y)\n",
        "\n",
        "importances = rfc.feature_importances_\n",
        "important_cols = X.columns[importances > 0.025]\n",
        "important_scores = importances[importances > 0.025]\n",
        "\n",
        "fig, ax = plt.subplots(figsize=(10, 8))\n",
        "ax.barh(important_cols, important_scores)\n",
        "ax.set_xlabel('Nilai')\n",
        "ax.set_ylabel('Fitur')\n",
        "ax.set_title('Fitur Penting')\n",
        "plt.show()"
      ],
      "metadata": {
        "colab": {
          "base_uri": "https://localhost:8080/",
          "height": 718
        },
        "id": "MjoSK84lk6iO",
        "outputId": "a6128272-5c1c-44e4-d95d-57ba6032c05f"
      },
      "execution_count": null,
      "outputs": [
        {
          "output_type": "display_data",
          "data": {
            "text/plain": [
              "<Figure size 1000x800 with 1 Axes>"
            ],
            "image/png": "[encoded data removed]"
          },
          "metadata": {}
        }
      ]
    },
    {
      "cell_type": "code",
      "source": [
        "import matplotlib.pyplot as plt\n",
        "\n",
        "X = df.drop('G3', axis=1)\n",
        "y = df['G3']\n",
        "\n",
        "rfc = RandomForestClassifier()\n",
        "rfc.fit(X, y)\n",
        "\n",
        "importances = rfc.feature_importances_\n",
        "important_cols = X.columns[importances > 0.015]\n",
        "important_scores = importances[importances > 0.015]\n",
        "\n",
        "fig, ax = plt.subplots(figsize=(10, 8))\n",
        "ax.barh(important_cols, important_scores)\n",
        "ax.set_xlabel('Nilai')\n",
        "ax.set_ylabel('Fitur')\n",
        "ax.set_title('Fitur Penting')\n",
        "plt.show()"
      ],
      "metadata": {
        "id": "nlj1sSTZF__N",
        "outputId": "59231886-99aa-4557-ff08-7e64ce02307a",
        "colab": {
          "base_uri": "https://localhost:8080/",
          "height": 718
        }
      },
      "execution_count": null,
      "outputs": [
        {
          "output_type": "display_data",
          "data": {
            "text/plain": [
              "<Figure size 1000x800 with 1 Axes>"
            ],
            "image/png": "[encoded data removed]"
          },
          "metadata": {}
        }
      ]
    },
    {
      "cell_type": "code",
      "source": [
        "import matplotlib.pyplot as plt\n",
        "\n",
        "X = df.drop('G3', axis=1)\n",
        "y = df['G3']\n",
        "\n",
        "rfc = RandomForestClassifier()\n",
        "rfc.fit(X, y)\n",
        "\n",
        "importances = rfc.feature_importances_\n",
        "important_cols = X.columns[importances > 0.02]\n",
        "important_scores = importances[importances > 0.02]\n",
        "\n",
        "fig, ax = plt.subplots(figsize=(10, 8))\n",
        "ax.barh(important_cols, important_scores)\n",
        "ax.set_xlabel('Nilai')\n",
        "ax.set_ylabel('Fitur')\n",
        "ax.set_title('Fitur Penting')\n",
        "plt.show()"
      ],
      "metadata": {
        "colab": {
          "base_uri": "https://localhost:8080/",
          "height": 718
        },
        "id": "F5oloARzokta",
        "outputId": "f2c73d4a-54d3-460e-86e6-8948c3ec7165"
      },
      "execution_count": null,
      "outputs": [
        {
          "output_type": "display_data",
          "data": {
            "text/plain": [
              "<Figure size 1000x800 with 1 Axes>"
            ],
            "image/png": "[encoded data removed]"
          },
          "metadata": {}
        }
      ]
    },
    {
      "cell_type": "code",
      "source": [
        "important_cols = list(important_cols) + ['G3']\n",
        "new_df = pd.DataFrame(df[important_cols])"
      ],
      "metadata": {
        "id": "ljDCBN1-lidZ"
      },
      "execution_count": null,
      "outputs": []
    },
    {
      "cell_type": "code",
      "source": [
        "new_df.to_csv('preprocessed.csv', index=False)"
      ],
      "metadata": {
        "id": "w7OFxUsPXWx_"
      },
      "execution_count": null,
      "outputs": []
    },
    {
      "cell_type": "code",
      "source": [
        "new_df.head()"
      ],
      "metadata": {
        "colab": {
          "base_uri": "https://localhost:8080/",
          "height": 206
        },
        "id": "Ztbbu_kKmFZq",
        "outputId": "34cc3a98-2358-4189-f2e1-4dda65666af3"
      },
      "execution_count": null,
      "outputs": [
        {
          "output_type": "execute_result",
          "data": {
            "text/plain": [
              "   age  Medu  Fedu  studytime  famrel  freetime  goout  Walc  health  \\\n",
              "0   18     4     4          2       4         3      4     1       3   \n",
              "1   17     1     1          2       5         3      3     1       3   \n",
              "3   15     4     2          3       3         2      2     1       5   \n",
              "4   16     3     3          2       4         3      2     2       5   \n",
              "5   16     4     3          2       5         4      2     2       5   \n",
              "\n",
              "   absences  G1  G2  G3  \n",
              "0         6   5   6   6  \n",
              "1         4   5   5   6  \n",
              "3         2  15  14  15  \n",
              "4         4   6  10  10  \n",
              "5        10  15  15  15  "
            ],
            "text/html": [
              "\n",
              "  <div id=\"df-277fb1f5-3bd7-4e30-8b15-ef8a754e0b4f\">\n",
              "    <div class=\"colab-df-container\">\n",
              "      <div>\n",
              "<style scoped>\n",
              "    .dataframe tbody tr th:only-of-type {\n",
              "        vertical-align: middle;\n",
              "    }\n",
              "\n",
              "    .dataframe tbody tr th {\n",
              "        vertical-align: top;\n",
              "    }\n",
              "\n",
              "    .dataframe thead th {\n",
              "        text-align: right;\n",
              "    }\n",
              "</style>\n",
              "<table border=\"1\" class=\"dataframe\">\n",
              "  <thead>\n",
              "    <tr style=\"text-align: right;\">\n",
              "      <th></th>\n",
              "      <th>age</th>\n",
              "      <th>Medu</th>\n",
              "      <th>Fedu</th>\n",
              "      <th>studytime</th>\n",
              "      <th>famrel</th>\n",
              "      <th>freetime</th>\n",
              "      <th>goout</th>\n",
              "      <th>Walc</th>\n",
              "      <th>health</th>\n",
              "      <th>absences</th>\n",
              "      <th>G1</th>\n",
              "      <th>G2</th>\n",
              "      <th>G3</th>\n",
              "    </tr>\n",
              "  </thead>\n",
              "  <tbody>\n",
              "    <tr>\n",
              "      <th>0</th>\n",
              "      <td>18</td>\n",
              "      <td>4</td>\n",
              "      <td>4</td>\n",
              "      <td>2</td>\n",
              "      <td>4</td>\n",
              "      <td>3</td>\n",
              "      <td>4</td>\n",
              "      <td>1</td>\n",
              "      <td>3</td>\n",
              "      <td>6</td>\n",
              "      <td>5</td>\n",
              "      <td>6</td>\n",
              "      <td>6</td>\n",
              "    </tr>\n",
              "    <tr>\n",
              "      <th>1</th>\n",
              "      <td>17</td>\n",
              "      <td>1</td>\n",
              "      <td>1</td>\n",
              "      <td>2</td>\n",
              "      <td>5</td>\n",
              "      <td>3</td>\n",
              "      <td>3</td>\n",
              "      <td>1</td>\n",
              "      <td>3</td>\n",
              "      <td>4</td>\n",
              "      <td>5</td>\n",
              "      <td>5</td>\n",
              "      <td>6</td>\n",
              "    </tr>\n",
              "    <tr>\n",
              "      <th>3</th>\n",
              "      <td>15</td>\n",
              "      <td>4</td>\n",
              "      <td>2</td>\n",
              "      <td>3</td>\n",
              "      <td>3</td>\n",
              "      <td>2</td>\n",
              "      <td>2</td>\n",
              "      <td>1</td>\n",
              "      <td>5</td>\n",
              "      <td>2</td>\n",
              "      <td>15</td>\n",
              "      <td>14</td>\n",
              "      <td>15</td>\n",
              "    </tr>\n",
              "    <tr>\n",
              "      <th>4</th>\n",
              "      <td>16</td>\n",
              "      <td>3</td>\n",
              "      <td>3</td>\n",
              "      <td>2</td>\n",
              "      <td>4</td>\n",
              "      <td>3</td>\n",
              "      <td>2</td>\n",
              "      <td>2</td>\n",
              "      <td>5</td>\n",
              "      <td>4</td>\n",
              "      <td>6</td>\n",
              "      <td>10</td>\n",
              "      <td>10</td>\n",
              "    </tr>\n",
              "    <tr>\n",
              "      <th>5</th>\n",
              "      <td>16</td>\n",
              "      <td>4</td>\n",
              "      <td>3</td>\n",
              "      <td>2</td>\n",
              "      <td>5</td>\n",
              "      <td>4</td>\n",
              "      <td>2</td>\n",
              "      <td>2</td>\n",
              "      <td>5</td>\n",
              "      <td>10</td>\n",
              "      <td>15</td>\n",
              "      <td>15</td>\n",
              "      <td>15</td>\n",
              "    </tr>\n",
              "  </tbody>\n",
              "</table>\n",
              "</div>\n",
              "      <button class=\"colab-df-convert\" onclick=\"convertToInteractive('df-277fb1f5-3bd7-4e30-8b15-ef8a754e0b4f')\"\n",
              "              title=\"Convert this dataframe to an interactive table.\"\n",
              "              style=\"display:none;\">\n",
              "        \n",
              "  <svg xmlns=\"http://www.w3.org/2000/svg\" height=\"24px\"viewBox=\"0 0 24 24\"\n",
              "       width=\"24px\">\n",
              "    <path d=\"M0 0h24v24H0V0z\" fill=\"none\"/>\n",
              "    <path d=\"M18.56 5.44l.94 2.06.94-2.06 2.06-.94-2.06-.94-.94-2.06-.94 2.06-2.06.94zm-11 1L8.5 8.5l.94-2.06 2.06-.94-2.06-.94L8.5 2.5l-.94 2.06-2.06.94zm10 10l.94 2.06.94-2.06 2.06-.94-2.06-.94-.94-2.06-.94 2.06-2.06.94z\"/><path d=\"M17.41 7.96l-1.37-1.37c-.4-.4-.92-.59-1.43-.59-.52 0-1.04.2-1.43.59L10.3 9.45l-7.72 7.72c-.78.78-.78 2.05 0 2.83L4 21.41c.39.39.9.59 1.41.59.51 0 1.02-.2 1.41-.59l7.78-7.78 2.81-2.81c.8-.78.8-2.07 0-2.86zM5.41 20L4 18.59l7.72-7.72 1.47 1.35L5.41 20z\"/>\n",
              "  </svg>\n",
              "      </button>\n",
              "      \n",
              "  <style>\n",
              "    .colab-df-container {\n",
              "      display:flex;\n",
              "      flex-wrap:wrap;\n",
              "      gap: 12px;\n",
              "    }\n",
              "\n",
              "    .colab-df-convert {\n",
              "      background-color: #E8F0FE;\n",
              "      border: none;\n",
              "      border-radius: 50%;\n",
              "      cursor: pointer;\n",
              "      display: none;\n",
              "      fill: #1967D2;\n",
              "      height: 32px;\n",
              "      padding: 0 0 0 0;\n",
              "      width: 32px;\n",
              "    }\n",
              "\n",
              "    .colab-df-convert:hover {\n",
              "      background-color: #E2EBFA;\n",
              "      box-shadow: 0px 1px 2px rgba(60, 64, 67, 0.3), 0px 1px 3px 1px rgba(60, 64, 67, 0.15);\n",
              "      fill: #174EA6;\n",
              "    }\n",
              "\n",
              "    [theme=dark] .colab-df-convert {\n",
              "      background-color: #3B4455;\n",
              "      fill: #D2E3FC;\n",
              "    }\n",
              "\n",
              "    [theme=dark] .colab-df-convert:hover {\n",
              "      background-color: #434B5C;\n",
              "      box-shadow: 0px 1px 3px 1px rgba(0, 0, 0, 0.15);\n",
              "      filter: drop-shadow(0px 1px 2px rgba(0, 0, 0, 0.3));\n",
              "      fill: #FFFFFF;\n",
              "    }\n",
              "  </style>\n",
              "\n",
              "      <script>\n",
              "        const buttonEl =\n",
              "          document.querySelector('#df-277fb1f5-3bd7-4e30-8b15-ef8a754e0b4f button.colab-df-convert');\n",
              "        buttonEl.style.display =\n",
              "          google.colab.kernel.accessAllowed ? 'block' : 'none';\n",
              "\n",
              "        async function convertToInteractive(key) {\n",
              "          const element = document.querySelector('#df-277fb1f5-3bd7-4e30-8b15-ef8a754e0b4f');\n",
              "          const dataTable =\n",
              "            await google.colab.kernel.invokeFunction('convertToInteractive',\n",
              "                                                     [key], {});\n",
              "          if (!dataTable) return;\n",
              "\n",
              "          const docLinkHtml = 'Like what you see? Visit the ' +\n",
              "            '<a target=\"_blank\" href=https://colab.research.google.com/notebooks/data_table.ipynb>data table notebook</a>'\n",
              "            + ' to learn more about interactive tables.';\n",
              "          element.innerHTML = '';\n",
              "          dataTable['output_type'] = 'display_data';\n",
              "          await google.colab.output.renderOutput(dataTable, element);\n",
              "          const docLink = document.createElement('div');\n",
              "          docLink.innerHTML = docLinkHtml;\n",
              "          element.appendChild(docLink);\n",
              "        }\n",
              "      </script>\n",
              "    </div>\n",
              "  </div>\n",
              "  "
            ]
          },
          "metadata": {},
          "execution_count": 87
        }
      ]
    },
    {
      "cell_type": "code",
      "source": [
        "new_df.isna().sum()"
      ],
      "metadata": {
        "colab": {
          "base_uri": "https://localhost:8080/"
        },
        "id": "rmF8A-UZre6B",
        "outputId": "cb3a14f2-9924-4ebf-e67f-c1da36b3c90c"
      },
      "execution_count": null,
      "outputs": [
        {
          "output_type": "execute_result",
          "data": {
            "text/plain": [
              "age          0\n",
              "Medu         0\n",
              "Fedu         0\n",
              "studytime    0\n",
              "famrel       0\n",
              "freetime     0\n",
              "goout        0\n",
              "Walc         0\n",
              "health       0\n",
              "absences     0\n",
              "G1           0\n",
              "G2           0\n",
              "G3           0\n",
              "dtype: int64"
            ]
          },
          "metadata": {},
          "execution_count": 88
        }
      ]
    },
    {
      "cell_type": "code",
      "source": [
        "new_df.shape"
      ],
      "metadata": {
        "colab": {
          "base_uri": "https://localhost:8080/"
        },
        "id": "8HoZ5fsyyCEE",
        "outputId": "a6b85ce0-9726-4b5b-a7b6-110facc97024"
      },
      "execution_count": null,
      "outputs": [
        {
          "output_type": "execute_result",
          "data": {
            "text/plain": [
              "(355, 13)"
            ]
          },
          "metadata": {},
          "execution_count": 89
        }
      ]
    },
    {
      "cell_type": "code",
      "source": [
        "new_df.isnull().values.any()"
      ],
      "metadata": {
        "colab": {
          "base_uri": "https://localhost:8080/"
        },
        "id": "0cKZnV6m97ki",
        "outputId": "204fc3fc-cf7f-4316-f9ab-8e4af847f94a"
      },
      "execution_count": null,
      "outputs": [
        {
          "output_type": "execute_result",
          "data": {
            "text/plain": [
              "False"
            ]
          },
          "metadata": {},
          "execution_count": 90
        }
      ]
    },
    {
      "cell_type": "markdown",
      "source": [
        "## Model Gradient Boosting Regression"
      ],
      "metadata": {
        "id": "rV-XcBHRm5b1"
      }
    },
    {
      "cell_type": "markdown",
      "source": [
        "### Import Library"
      ],
      "metadata": {
        "id": "skRJOE5z9Db6"
      }
    },
    {
      "cell_type": "code",
      "source": [
        "import numpy as np\n",
        "from sklearn.tree import DecisionTreeRegressor\n",
        "from sklearn.datasets import make_regression\n",
        "from sklearn.model_selection import train_test_split\n",
        "from sklearn.metrics import mean_squared_error\n",
        "from sklearn.metrics import mean_absolute_error\n",
        "from sklearn.model_selection import KFold"
      ],
      "metadata": {
        "id": "gq1nr3AEnJJW"
      },
      "execution_count": null,
      "outputs": []
    },
    {
      "cell_type": "markdown",
      "source": [
        "### Split dataset"
      ],
      "metadata": {
        "id": "9qwYYLAB9KDW"
      }
    },
    {
      "cell_type": "code",
      "source": [
        "array = new_df.values\n",
        "X = array[:, 0:12] #data\n",
        "y = array[:, 12] #label\n",
        "\n",
        "X_train, X_test, y_train, y_test = train_test_split(X, y, test_size=0.2, random_state=1, shuffle=True)"
      ],
      "metadata": {
        "id": "WSqioR2a-hXF"
      },
      "execution_count": null,
      "outputs": []
    },
    {
      "cell_type": "code",
      "source": [
        "X"
      ],
      "metadata": {
        "colab": {
          "base_uri": "https://localhost:8080/"
        },
        "id": "CbWioGoRABPc",
        "outputId": "2c664425-379b-4484-aa62-c2f4728e5309"
      },
      "execution_count": null,
      "outputs": [
        {
          "output_type": "execute_result",
          "data": {
            "text/plain": [
              "array([[18,  4,  4, ...,  6,  5,  6],\n",
              "       [17,  1,  1, ...,  4,  5,  5],\n",
              "       [15,  4,  2, ...,  2, 15, 14],\n",
              "       ...,\n",
              "       [17,  3,  1, ...,  3, 14, 16],\n",
              "       [18,  3,  2, ...,  0, 11, 12],\n",
              "       [19,  1,  1, ...,  5,  8,  9]])"
            ]
          },
          "metadata": {},
          "execution_count": 93
        }
      ]
    },
    {
      "cell_type": "code",
      "source": [
        "y"
      ],
      "metadata": {
        "colab": {
          "base_uri": "https://localhost:8080/"
        },
        "id": "hfOzJKDAAJ5c",
        "outputId": "ce415960-c470-4bd8-e1ef-a72ad6df434a"
      },
      "execution_count": null,
      "outputs": [
        {
          "output_type": "execute_result",
          "data": {
            "text/plain": [
              "array([ 6,  6, 15, 10, 15, 11,  6, 19, 15,  9, 12, 14, 11, 16, 14, 14, 10,\n",
              "       10, 15, 15, 16, 12,  8, 11, 15, 11, 12, 17, 16, 12, 15,  6, 18, 15,\n",
              "       11, 13, 11, 12, 18, 11,  9,  6, 11, 20, 14,  7, 13, 13, 10, 11, 13,\n",
              "       10, 15, 15,  9, 16, 11,  9,  9, 10, 15,  6,  8, 16, 15, 10,  5, 14,\n",
              "       10, 10, 11,  5, 12, 11,  6, 15, 10,  8,  6, 14, 10,  7,  8, 18,  6,\n",
              "       10, 14, 10, 15, 10, 14,  8, 17, 14,  6, 18, 11,  8, 18, 16, 19, 10,\n",
              "       13, 19,  9, 16, 14, 13,  8, 13, 15, 15, 13, 13,  8, 12, 11,  0, 18,\n",
              "        0,  0, 12, 11,  0,  0,  0, 12, 15,  0,  9, 11, 13, 11, 11,  0, 14,\n",
              "       10, 12,  8, 13, 15, 12,  0,  7,  0, 10, 12, 10, 16,  0, 14,  0, 16,\n",
              "       10,  9,  9, 11,  6,  9, 11,  8, 12, 17, 11, 11, 15,  9, 10, 13,  9,\n",
              "        8, 10, 14, 15, 16, 10, 18, 10, 16, 10, 10,  6, 11,  9, 10,  7,  8,\n",
              "       13, 14,  8, 10, 15,  4,  8,  8, 10,  6,  0, 17, 14,  7, 15, 12, 12,\n",
              "       14, 11,  9, 13,  6, 10, 12, 11,  0, 12, 12,  0, 12,  0, 18, 13,  5,\n",
              "       15,  8, 10,  8,  8, 12,  8, 13, 11, 14,  0, 18,  8, 12,  9,  0, 17,\n",
              "       10, 11, 10,  0,  9, 14, 11, 14, 10, 12,  9,  8, 10, 10, 12, 10, 11,\n",
              "       11, 19, 12, 14, 15, 11, 15, 13, 18, 14, 11,  0,  8, 14, 11, 10, 14,\n",
              "       18, 13, 12, 18, 12, 10,  0, 13, 11, 11, 13,  0,  9, 10, 11, 13,  9,\n",
              "       11, 15, 15, 11, 16,  9, 14,  8, 14,  0,  0,  0, 15, 13,  0, 17, 10,\n",
              "       11,  0, 15,  0, 10, 14, 16,  9, 15, 13,  8,  8, 11,  9, 13, 10, 16,\n",
              "       13, 12, 10, 15, 12, 10, 13,  0, 10, 11,  9, 12, 11,  5, 19, 15, 10,\n",
              "       15, 10, 14,  7, 10,  0,  5, 10,  6,  0,  8,  9, 16, 10,  9])"
            ]
          },
          "metadata": {},
          "execution_count": 94
        }
      ]
    },
    {
      "cell_type": "markdown",
      "source": [
        "### Gradient Boosting Regression"
      ],
      "metadata": {
        "id": "_1zwm1FlAQiV"
      }
    },
    {
      "cell_type": "code",
      "source": [
        "import numpy as np\n",
        "from sklearn.metrics import mean_squared_error\n",
        "from sklearn.model_selection import KFold\n",
        "from sklearn.tree import DecisionTreeRegressor\n",
        "\n",
        "class GradientBoostingRegressor:\n",
        "    def __init__(self, n_estimators, max_depth, learning_rate):\n",
        "        self.n_estimators = n_estimators\n",
        "        self.max_depth = max_depth\n",
        "        self.learning_rate = learning_rate\n",
        "        self.trees = []\n",
        "        self.baseline = None\n",
        "\n",
        "    def fit(self, X, y):\n",
        "        self.baseline = np.mean(y)\n",
        "        f = np.full(len(y), self.baseline)\n",
        "\n",
        "        for i in range(self.n_estimators):\n",
        "            residuals = y - f\n",
        "            tree = DecisionTreeRegressor(max_depth=self.max_depth)\n",
        "            tree.fit(X, residuals)\n",
        "            f += self.learning_rate * tree.predict(X)\n",
        "            self.trees.append(tree)\n",
        "\n",
        "    def predict(self, X):\n",
        "        predictions = np.zeros(len(X))\n",
        "\n",
        "        for tree in self.trees:\n",
        "            predictions += self.learning_rate * tree.predict(X)\n",
        "\n",
        "        predictions += self.baseline\n",
        "        return predictions\n",
        "\n",
        "def k_fold_cross_validation(X, y, k, n_estimators, max_depth, learning_rate):\n",
        "    kf = KFold(n_splits=k)\n",
        "    mse_scores = []\n",
        "\n",
        "    for train_index, test_index in kf.split(X):\n",
        "        X_train, X_test = X[train_index], X[test_index]\n",
        "        y_train, y_test = y[train_index], y[test_index]\n",
        "\n",
        "        model = GradientBoostingRegressor(n_estimators=n_estimators, max_depth=max_depth, learning_rate=learning_rate)\n",
        "        model.fit(X_train, y_train)\n",
        "        predictions = model.predict(X_test)\n",
        "\n",
        "        mse = mean_squared_error(y_test, predictions)\n",
        "        mse_scores.append(mse)\n",
        "\n",
        "    return mse_scores\n",
        "\n",
        "\n",
        "# Grid search for finding the best parameters\n",
        "n_estimators_list = [50, 100, 150]\n",
        "max_depth_list = [3, 4, 5]\n",
        "learning_rate_list = [0.01, 0.1, 1.0]\n",
        "\n",
        "best_params = None\n",
        "best_mse = float('inf')\n",
        "\n",
        "for n_estimators in n_estimators_list:\n",
        "    for max_depth in max_depth_list:\n",
        "        for learning_rate in learning_rate_list:\n",
        "            mse_scores = k_fold_cross_validation(X, y, k=5, n_estimators=n_estimators, max_depth=max_depth, learning_rate=learning_rate)\n",
        "            mean_mse = np.mean(mse_scores)\n",
        "\n",
        "            if mean_mse < best_mse:\n",
        "                best_mse = mean_mse\n",
        "                best_params = (n_estimators, max_depth, learning_rate)\n",
        "\n",
        "print(\"Best parameters: n_estimators={}, max_depth={}, learning_rate={}\".format(*best_params))\n",
        "print(\"Best MSE:\", best_mse)"
      ],
      "metadata": {
        "id": "NLck4TBbAvUM",
        "colab": {
          "base_uri": "https://localhost:8080/"
        },
        "outputId": "ac0bb317-4ae9-4494-eb43-49ddb0eb04a1"
      },
      "execution_count": null,
      "outputs": [
        {
          "output_type": "stream",
          "name": "stdout",
          "text": [
            "Best parameters: n_estimators=50, max_depth=4, learning_rate=0.1\n",
            "Best MSE: 3.219000078363508\n"
          ]
        }
      ]
    },
    {
      "cell_type": "markdown",
      "source": [
        "### Training"
      ],
      "metadata": {
        "id": "L2UIMZkuA5XD"
      }
    },
    {
      "cell_type": "code",
      "source": [
        "model = GradientBoostingRegressor(n_estimators=50, max_depth=3, learning_rate=0.1)\n",
        "model.fit(X_train, y_train)"
      ],
      "metadata": {
        "id": "9c-jyh6VA_-t"
      },
      "execution_count": null,
      "outputs": []
    },
    {
      "cell_type": "code",
      "source": [
        "model_best = GradientBoostingRegressor(n_estimators=50, max_depth=3, learning_rate=0.1)\n",
        "model_best.fit(X_train, y_train)"
      ],
      "metadata": {
        "id": "xI3Ux5EJTK5h"
      },
      "execution_count": null,
      "outputs": []
    },
    {
      "cell_type": "markdown",
      "source": [
        "### Testing"
      ],
      "metadata": {
        "id": "yZ_yuQ_7BLJY"
      }
    },
    {
      "cell_type": "code",
      "source": [
        "y_pred = model.predict(X_test)"
      ],
      "metadata": {
        "id": "Ur7sFOHMBOmq"
      },
      "execution_count": null,
      "outputs": []
    },
    {
      "cell_type": "code",
      "source": [
        "y_pred_best = model_best.predict(X_test)"
      ],
      "metadata": {
        "id": "5ZHB9b7pTVEY"
      },
      "execution_count": null,
      "outputs": []
    },
    {
      "cell_type": "code",
      "source": [
        "y_test"
      ],
      "metadata": {
        "colab": {
          "base_uri": "https://localhost:8080/"
        },
        "id": "UXnF08CoC0Bu",
        "outputId": "a57707f3-ed6e-4b24-908f-74e925904574"
      },
      "execution_count": null,
      "outputs": [
        {
          "output_type": "execute_result",
          "data": {
            "text/plain": [
              "array([10, 11,  8,  4, 16, 10, 10, 15,  8, 13, 13, 12, 15, 14,  0, 14, 15,\n",
              "       10, 11, 13,  0, 10, 14, 18,  0,  0, 15, 16, 15, 16, 11, 14, 14, 18,\n",
              "        6, 15, 10, 13, 11,  0, 10, 14, 13, 15, 10, 15, 15, 14, 11,  9, 17,\n",
              "       11, 10,  9, 10, 12, 11, 14, 17, 10, 13, 14,  8,  9,  5, 10, 10, 11,\n",
              "       13, 16,  9])"
            ]
          },
          "metadata": {},
          "execution_count": 100
        }
      ]
    },
    {
      "cell_type": "code",
      "source": [
        "y_pred"
      ],
      "metadata": {
        "colab": {
          "base_uri": "https://localhost:8080/"
        },
        "id": "wGro_YXpC2eL",
        "outputId": "44b73a83-cc5e-49c9-a34d-78e2b1b73ebf"
      },
      "execution_count": null,
      "outputs": [
        {
          "output_type": "execute_result",
          "data": {
            "text/plain": [
              "array([10.08569392, 10.62029236,  6.67281909,  6.46260236, 15.08122416,\n",
              "       10.18447854,  7.37813326, 14.14284567,  7.56321679, 13.20823041,\n",
              "       12.85667109, 11.24109588, 14.98157311, 14.21144543,  3.27470594,\n",
              "       14.01988184, 14.40755691,  9.30636349, 11.17712456, 14.69235698,\n",
              "       -0.3159734 ,  9.15581788, 14.12872028, 17.26327906,  3.44927837,\n",
              "        1.3118099 , 15.11067599, 15.58259388, 14.98956366, 15.47926858,\n",
              "       10.72151608, 12.29966571, 13.34199945, 18.77102298,  5.6529095 ,\n",
              "       14.83489025,  9.79172692, 13.12202363, 10.36040296, -0.27918537,\n",
              "        9.47150204, 14.15376174, 14.63691495, 16.05218436,  9.54760919,\n",
              "       14.90836516, 14.31338281, 13.13295121, 10.24753891,  3.64427296,\n",
              "       17.63371339, 11.02405235,  7.61567247, 11.08167707,  9.1274115 ,\n",
              "       13.15147546, 11.69746612, 12.87484386, 16.12263476,  9.91496736,\n",
              "       11.96168293, 12.23412757,  9.21718116,  9.36346746,  5.6837258 ,\n",
              "        9.45353984,  8.37491527, 10.47845324, 14.14555096, 14.85646917,\n",
              "        9.07704815])"
            ]
          },
          "metadata": {},
          "execution_count": 101
        }
      ]
    },
    {
      "cell_type": "code",
      "source": [
        "y_pred_best"
      ],
      "metadata": {
        "colab": {
          "base_uri": "https://localhost:8080/"
        },
        "id": "VRAGlyAXTYrA",
        "outputId": "7d5a89fa-2a20-476a-953c-83d52875db20"
      },
      "execution_count": null,
      "outputs": [
        {
          "output_type": "execute_result",
          "data": {
            "text/plain": [
              "array([10.08569392, 10.62029236,  6.67281909,  6.46260236, 15.08122416,\n",
              "       10.18447854,  7.37813326, 14.14284567,  7.56321679, 13.20823041,\n",
              "       12.85667109, 11.24109588, 14.98157311, 14.21144543,  3.27470594,\n",
              "       14.01988184, 14.40755691,  9.30636349, 11.17712456, 14.69235698,\n",
              "       -0.3159734 ,  9.15581788, 14.12872028, 17.26327906,  3.44927837,\n",
              "        1.3118099 , 15.11067599, 15.58259388, 14.98956366, 15.47926858,\n",
              "       10.72151608, 12.29966571, 13.34199945, 18.77102298,  5.60397125,\n",
              "       14.83489025,  9.79172692, 13.12202363, 10.36040296, -0.27918537,\n",
              "        9.47150204, 14.15376174, 14.63691495, 16.05218436,  9.54760919,\n",
              "       14.90836516, 14.31338281, 13.13295121, 10.24753891,  3.64427296,\n",
              "       17.63371339, 11.02405235,  7.61567247, 11.08167707,  9.1274115 ,\n",
              "       13.15147546, 11.69746612, 12.87484386, 16.12263476,  9.91496736,\n",
              "       11.96168293, 12.23412757,  9.21718116,  9.36346746,  5.6837258 ,\n",
              "        9.45353984,  8.37491527, 10.47845324, 14.14555096, 14.85646917,\n",
              "        9.07704815])"
            ]
          },
          "metadata": {},
          "execution_count": 102
        }
      ]
    },
    {
      "cell_type": "code",
      "source": [
        "for indeks in range(len(y_test)):\n",
        "  print(\"Nilai Uji\",indeks+1,\":\", y_test[indeks],\", Hasil prediksi:\", y_pred[indeks])"
      ],
      "metadata": {
        "colab": {
          "base_uri": "https://localhost:8080/"
        },
        "id": "cSF7fqkNE39K",
        "outputId": "5cd017e3-bf70-432e-fac7-b91984726f41"
      },
      "execution_count": null,
      "outputs": [
        {
          "output_type": "stream",
          "name": "stdout",
          "text": [
            "Nilai Uji 1 : 10 , Hasil prediksi: 10.085693915579064\n",
            "Nilai Uji 2 : 11 , Hasil prediksi: 10.620292357859322\n",
            "Nilai Uji 3 : 8 , Hasil prediksi: 6.67281908549467\n",
            "Nilai Uji 4 : 4 , Hasil prediksi: 6.4626023605631415\n",
            "Nilai Uji 5 : 16 , Hasil prediksi: 15.08122415747916\n",
            "Nilai Uji 6 : 10 , Hasil prediksi: 10.184478543330798\n",
            "Nilai Uji 7 : 10 , Hasil prediksi: 7.378133259005626\n",
            "Nilai Uji 8 : 15 , Hasil prediksi: 14.142845667504467\n",
            "Nilai Uji 9 : 8 , Hasil prediksi: 7.5632167905614\n",
            "Nilai Uji 10 : 13 , Hasil prediksi: 13.208230408006298\n",
            "Nilai Uji 11 : 13 , Hasil prediksi: 12.85667108847273\n",
            "Nilai Uji 12 : 12 , Hasil prediksi: 11.241095879973045\n",
            "Nilai Uji 13 : 15 , Hasil prediksi: 14.981573110349796\n",
            "Nilai Uji 14 : 14 , Hasil prediksi: 14.211445433276337\n",
            "Nilai Uji 15 : 0 , Hasil prediksi: 3.274705944516877\n",
            "Nilai Uji 16 : 14 , Hasil prediksi: 14.019881836961655\n",
            "Nilai Uji 17 : 15 , Hasil prediksi: 14.407556906366146\n",
            "Nilai Uji 18 : 10 , Hasil prediksi: 9.306363487316736\n",
            "Nilai Uji 19 : 11 , Hasil prediksi: 11.17712455672044\n",
            "Nilai Uji 20 : 13 , Hasil prediksi: 14.69235698079069\n",
            "Nilai Uji 21 : 0 , Hasil prediksi: -0.31597339773646205\n",
            "Nilai Uji 22 : 10 , Hasil prediksi: 9.155817875670124\n",
            "Nilai Uji 23 : 14 , Hasil prediksi: 14.128720284789779\n",
            "Nilai Uji 24 : 18 , Hasil prediksi: 17.263279057082794\n",
            "Nilai Uji 25 : 0 , Hasil prediksi: 3.449278371223837\n",
            "Nilai Uji 26 : 0 , Hasil prediksi: 1.3118099041704792\n",
            "Nilai Uji 27 : 15 , Hasil prediksi: 15.110675990556102\n",
            "Nilai Uji 28 : 16 , Hasil prediksi: 15.5825938845174\n",
            "Nilai Uji 29 : 15 , Hasil prediksi: 14.989563660694763\n",
            "Nilai Uji 30 : 16 , Hasil prediksi: 15.479268575342843\n",
            "Nilai Uji 31 : 11 , Hasil prediksi: 10.721516080210542\n",
            "Nilai Uji 32 : 14 , Hasil prediksi: 12.299665712359507\n",
            "Nilai Uji 33 : 14 , Hasil prediksi: 13.341999452620229\n",
            "Nilai Uji 34 : 18 , Hasil prediksi: 18.771022984394342\n",
            "Nilai Uji 35 : 6 , Hasil prediksi: 5.652909496806039\n",
            "Nilai Uji 36 : 15 , Hasil prediksi: 14.834890249605388\n",
            "Nilai Uji 37 : 10 , Hasil prediksi: 9.791726921631723\n",
            "Nilai Uji 38 : 13 , Hasil prediksi: 13.122023627244268\n",
            "Nilai Uji 39 : 11 , Hasil prediksi: 10.36040295832453\n",
            "Nilai Uji 40 : 0 , Hasil prediksi: -0.27918536632733826\n",
            "Nilai Uji 41 : 10 , Hasil prediksi: 9.471502036319647\n",
            "Nilai Uji 42 : 14 , Hasil prediksi: 14.153761744416466\n",
            "Nilai Uji 43 : 13 , Hasil prediksi: 14.636914952845487\n",
            "Nilai Uji 44 : 15 , Hasil prediksi: 16.052184355250084\n",
            "Nilai Uji 45 : 10 , Hasil prediksi: 9.547609186849824\n",
            "Nilai Uji 46 : 15 , Hasil prediksi: 14.908365156824601\n",
            "Nilai Uji 47 : 15 , Hasil prediksi: 14.313382806636877\n",
            "Nilai Uji 48 : 14 , Hasil prediksi: 13.132951207024092\n",
            "Nilai Uji 49 : 11 , Hasil prediksi: 10.247538907894738\n",
            "Nilai Uji 50 : 9 , Hasil prediksi: 3.644272955623337\n",
            "Nilai Uji 51 : 17 , Hasil prediksi: 17.633713388251746\n",
            "Nilai Uji 52 : 11 , Hasil prediksi: 11.02405234557658\n",
            "Nilai Uji 53 : 10 , Hasil prediksi: 7.615672469006352\n",
            "Nilai Uji 54 : 9 , Hasil prediksi: 11.081677065429457\n",
            "Nilai Uji 55 : 10 , Hasil prediksi: 9.127411501601133\n",
            "Nilai Uji 56 : 12 , Hasil prediksi: 13.15147546032121\n",
            "Nilai Uji 57 : 11 , Hasil prediksi: 11.697466124410951\n",
            "Nilai Uji 58 : 14 , Hasil prediksi: 12.874843855328375\n",
            "Nilai Uji 59 : 17 , Hasil prediksi: 16.122634763722985\n",
            "Nilai Uji 60 : 10 , Hasil prediksi: 9.914967355555834\n",
            "Nilai Uji 61 : 13 , Hasil prediksi: 11.961682926526755\n",
            "Nilai Uji 62 : 14 , Hasil prediksi: 12.234127569964011\n",
            "Nilai Uji 63 : 8 , Hasil prediksi: 9.217181157294146\n",
            "Nilai Uji 64 : 9 , Hasil prediksi: 9.363467459209748\n",
            "Nilai Uji 65 : 5 , Hasil prediksi: 5.683725801761209\n",
            "Nilai Uji 66 : 10 , Hasil prediksi: 9.45353984242962\n",
            "Nilai Uji 67 : 10 , Hasil prediksi: 8.374915272621424\n",
            "Nilai Uji 68 : 11 , Hasil prediksi: 10.47845324463949\n",
            "Nilai Uji 69 : 13 , Hasil prediksi: 14.145550957122591\n",
            "Nilai Uji 70 : 16 , Hasil prediksi: 14.856469173651096\n",
            "Nilai Uji 71 : 9 , Hasil prediksi: 9.077048148361627\n"
          ]
        }
      ]
    },
    {
      "cell_type": "code",
      "source": [
        "for indeks in range(len(y_test)):\n",
        "  print(\"Nilai Uji\",indeks+1,\":\", y_test[indeks],\", Hasil prediksi:\", y_pred_best[indeks])"
      ],
      "metadata": {
        "colab": {
          "base_uri": "https://localhost:8080/"
        },
        "id": "smoBSD22TcUC",
        "outputId": "bf2457a3-6fc9-44fc-e33d-ffef676a7c4f"
      },
      "execution_count": null,
      "outputs": [
        {
          "output_type": "stream",
          "name": "stdout",
          "text": [
            "Nilai Uji 1 : 10 , Hasil prediksi: 10.085693915579062\n",
            "Nilai Uji 2 : 11 , Hasil prediksi: 10.620292357859322\n",
            "Nilai Uji 3 : 8 , Hasil prediksi: 6.672819085494673\n",
            "Nilai Uji 4 : 4 , Hasil prediksi: 6.462602360563143\n",
            "Nilai Uji 5 : 16 , Hasil prediksi: 15.08122415747916\n",
            "Nilai Uji 6 : 10 , Hasil prediksi: 10.184478543330798\n",
            "Nilai Uji 7 : 10 , Hasil prediksi: 7.378133259005626\n",
            "Nilai Uji 8 : 15 , Hasil prediksi: 14.142845667504467\n",
            "Nilai Uji 9 : 8 , Hasil prediksi: 7.5632167905614\n",
            "Nilai Uji 10 : 13 , Hasil prediksi: 13.2082304080063\n",
            "Nilai Uji 11 : 13 , Hasil prediksi: 12.85667108847273\n",
            "Nilai Uji 12 : 12 , Hasil prediksi: 11.241095879973045\n",
            "Nilai Uji 13 : 15 , Hasil prediksi: 14.981573110349796\n",
            "Nilai Uji 14 : 14 , Hasil prediksi: 14.211445433276337\n",
            "Nilai Uji 15 : 0 , Hasil prediksi: 3.274705944516877\n",
            "Nilai Uji 16 : 14 , Hasil prediksi: 14.019881836961655\n",
            "Nilai Uji 17 : 15 , Hasil prediksi: 14.407556906366146\n",
            "Nilai Uji 18 : 10 , Hasil prediksi: 9.306363487316736\n",
            "Nilai Uji 19 : 11 , Hasil prediksi: 11.17712455672044\n",
            "Nilai Uji 20 : 13 , Hasil prediksi: 14.69235698079069\n",
            "Nilai Uji 21 : 0 , Hasil prediksi: -0.31597339773646205\n",
            "Nilai Uji 22 : 10 , Hasil prediksi: 9.155817875670124\n",
            "Nilai Uji 23 : 14 , Hasil prediksi: 14.128720284789779\n",
            "Nilai Uji 24 : 18 , Hasil prediksi: 17.263279057082794\n",
            "Nilai Uji 25 : 0 , Hasil prediksi: 3.449278371223839\n",
            "Nilai Uji 26 : 0 , Hasil prediksi: 1.3118099041704792\n",
            "Nilai Uji 27 : 15 , Hasil prediksi: 15.110675990556103\n",
            "Nilai Uji 28 : 16 , Hasil prediksi: 15.5825938845174\n",
            "Nilai Uji 29 : 15 , Hasil prediksi: 14.989563660694763\n",
            "Nilai Uji 30 : 16 , Hasil prediksi: 15.479268575342843\n",
            "Nilai Uji 31 : 11 , Hasil prediksi: 10.721516080210542\n",
            "Nilai Uji 32 : 14 , Hasil prediksi: 12.299665712359507\n",
            "Nilai Uji 33 : 14 , Hasil prediksi: 13.341999452620229\n",
            "Nilai Uji 34 : 18 , Hasil prediksi: 18.771022984394342\n",
            "Nilai Uji 35 : 6 , Hasil prediksi: 5.6039712475888575\n",
            "Nilai Uji 36 : 15 , Hasil prediksi: 14.834890249605388\n",
            "Nilai Uji 37 : 10 , Hasil prediksi: 9.791726921631723\n",
            "Nilai Uji 38 : 13 , Hasil prediksi: 13.122023627244268\n",
            "Nilai Uji 39 : 11 , Hasil prediksi: 10.36040295832453\n",
            "Nilai Uji 40 : 0 , Hasil prediksi: -0.27918536632733826\n",
            "Nilai Uji 41 : 10 , Hasil prediksi: 9.471502036319647\n",
            "Nilai Uji 42 : 14 , Hasil prediksi: 14.153761744416464\n",
            "Nilai Uji 43 : 13 , Hasil prediksi: 14.636914952845487\n",
            "Nilai Uji 44 : 15 , Hasil prediksi: 16.052184355250084\n",
            "Nilai Uji 45 : 10 , Hasil prediksi: 9.547609186849826\n",
            "Nilai Uji 46 : 15 , Hasil prediksi: 14.908365156824601\n",
            "Nilai Uji 47 : 15 , Hasil prediksi: 14.313382806636875\n",
            "Nilai Uji 48 : 14 , Hasil prediksi: 13.132951207024092\n",
            "Nilai Uji 49 : 11 , Hasil prediksi: 10.247538907894738\n",
            "Nilai Uji 50 : 9 , Hasil prediksi: 3.6442729556233378\n",
            "Nilai Uji 51 : 17 , Hasil prediksi: 17.633713388251746\n",
            "Nilai Uji 52 : 11 , Hasil prediksi: 11.02405234557658\n",
            "Nilai Uji 53 : 10 , Hasil prediksi: 7.615672469006352\n",
            "Nilai Uji 54 : 9 , Hasil prediksi: 11.081677065429458\n",
            "Nilai Uji 55 : 10 , Hasil prediksi: 9.127411501601133\n",
            "Nilai Uji 56 : 12 , Hasil prediksi: 13.151475460321212\n",
            "Nilai Uji 57 : 11 , Hasil prediksi: 11.697466124410951\n",
            "Nilai Uji 58 : 14 , Hasil prediksi: 12.874843855328375\n",
            "Nilai Uji 59 : 17 , Hasil prediksi: 16.122634763722985\n",
            "Nilai Uji 60 : 10 , Hasil prediksi: 9.914967355555834\n",
            "Nilai Uji 61 : 13 , Hasil prediksi: 11.961682926526755\n",
            "Nilai Uji 62 : 14 , Hasil prediksi: 12.234127569964011\n",
            "Nilai Uji 63 : 8 , Hasil prediksi: 9.217181157294146\n",
            "Nilai Uji 64 : 9 , Hasil prediksi: 9.36346745920975\n",
            "Nilai Uji 65 : 5 , Hasil prediksi: 5.68372580176121\n",
            "Nilai Uji 66 : 10 , Hasil prediksi: 9.45353984242962\n",
            "Nilai Uji 67 : 10 , Hasil prediksi: 8.374915272621424\n",
            "Nilai Uji 68 : 11 , Hasil prediksi: 10.478453244639487\n",
            "Nilai Uji 69 : 13 , Hasil prediksi: 14.145550957122591\n",
            "Nilai Uji 70 : 16 , Hasil prediksi: 14.856469173651096\n",
            "Nilai Uji 71 : 9 , Hasil prediksi: 9.077048148361627\n"
          ]
        }
      ]
    },
    {
      "cell_type": "code",
      "source": [
        "import matplotlib.pyplot as plt\n",
        "\n",
        "plt.plot(y_pred, 'r-', label='Hasil Prediksi')\n",
        "plt.plot(y_test, 'b-', label='Nilai Aktual')\n",
        "\n",
        "plt.xlabel('Data Uji Indeks Ke-')\n",
        "plt.ylabel('G3')\n",
        "plt.title('Perbandingan Nilai Aktual dan Hasil Prediksi')\n",
        "plt.legend()\n",
        "\n",
        "plt.show()"
      ],
      "metadata": {
        "colab": {
          "base_uri": "https://localhost:8080/",
          "height": 472
        },
        "id": "_E1C1PuXIs2l",
        "outputId": "1b78a676-f449-4264-f5be-ce1fb6979bc7"
      },
      "execution_count": null,
      "outputs": [
        {
          "output_type": "display_data",
          "data": {
            "text/plain": [
              "<Figure size 640x480 with 1 Axes>"
            ],
            "image/png": "[encoded data removed]"
          },
          "metadata": {}
        }
      ]
    },
    {
      "cell_type": "code",
      "source": [
        "import matplotlib.pyplot as plt\n",
        "\n",
        "plt.plot(y_pred_best, 'r-', label='Hasil Prediksi')\n",
        "plt.plot(y_test, 'b-', label='Nilai Aktual')\n",
        "\n",
        "plt.xlabel('Data Uji Indeks Ke-')\n",
        "plt.ylabel('G3')\n",
        "plt.title('Perbandingan Nilai Aktual dan Hasil Prediksi')\n",
        "plt.legend()\n",
        "\n",
        "plt.show()"
      ],
      "metadata": {
        "colab": {
          "base_uri": "https://localhost:8080/",
          "height": 472
        },
        "id": "y8pj2WrzTf-l",
        "outputId": "c394602a-a110-48d2-c89f-f870af102ca7"
      },
      "execution_count": null,
      "outputs": [
        {
          "output_type": "display_data",
          "data": {
            "text/plain": [
              "<Figure size 640x480 with 1 Axes>"
            ],
            "image/png": "[encoded data removed]"
          },
          "metadata": {}
        }
      ]
    },
    {
      "cell_type": "markdown",
      "source": [
        "### Evaluasi"
      ],
      "metadata": {
        "id": "rJN6aHfNBTCO"
      }
    },
    {
      "cell_type": "markdown",
      "source": [
        "#### Mean Squared Error (MSE)"
      ],
      "metadata": {
        "id": "yHvsGOc03isi"
      }
    },
    {
      "cell_type": "code",
      "source": [
        "mse = mean_squared_error(y_test, y_pred)\n",
        "print(\"MSE:\", mse)"
      ],
      "metadata": {
        "colab": {
          "base_uri": "https://localhost:8080/"
        },
        "id": "H5ilVQKaBWeg",
        "outputId": "e75d4579-33eb-4255-f7e4-3da3778b596d"
      },
      "execution_count": null,
      "outputs": [
        {
          "output_type": "stream",
          "name": "stdout",
          "text": [
            "MSE: 1.6036183330642322\n"
          ]
        }
      ]
    },
    {
      "cell_type": "code",
      "source": [
        "mse = mean_squared_error(y_test, y_pred_best)\n",
        "print(\"MSE:\", mse)"
      ],
      "metadata": {
        "colab": {
          "base_uri": "https://localhost:8080/"
        },
        "id": "IBN6s4V1Tkgd",
        "outputId": "75ce7a11-a081-4182-ef0b-a1b8db39de56"
      },
      "execution_count": null,
      "outputs": [
        {
          "output_type": "stream",
          "name": "stdout",
          "text": [
            "MSE: 1.6041305437026676\n"
          ]
        }
      ]
    },
    {
      "cell_type": "code",
      "source": [
        "k = 5  #\n",
        "n_estimators = 100\n",
        "max_depth = 3\n",
        "learning_rate = 0.1\n",
        "\n",
        "mse_scores = k_fold_cross_validation(X, y, k, n_estimators, max_depth, learning_rate)\n",
        "\n",
        "print(\"Mean Squared Error (MSE) scores for each fold:\")\n",
        "for i, mse in enumerate(mse_scores):\n",
        "    print(\"Fold\", i+1, \":\", mse)\n",
        "\n",
        "print(\"Average MSE GBR:\", np.mean(mse_scores))"
      ],
      "metadata": {
        "colab": {
          "base_uri": "https://localhost:8080/"
        },
        "id": "iIMtsrtW1VY9",
        "outputId": "de86f399-7e70-4b90-d395-fb780abac430"
      },
      "execution_count": null,
      "outputs": [
        {
          "output_type": "stream",
          "name": "stdout",
          "text": [
            "Mean Squared Error (MSE) scores for each fold:\n",
            "Fold 1 : 3.1958953225784703\n",
            "Fold 2 : 3.899635435567506\n",
            "Fold 3 : 2.5160413129257675\n",
            "Fold 4 : 3.0976926273938723\n",
            "Fold 5 : 3.5884709303896405\n",
            "Average MSE GBR: 3.2595471257710513\n"
          ]
        }
      ]
    },
    {
      "cell_type": "markdown",
      "source": [
        "#### Mean Absolute Percentage Error (MAPE)"
      ],
      "metadata": {
        "id": "gBd_UO-73p_N"
      }
    },
    {
      "cell_type": "code",
      "source": [
        "mae = mean_absolute_error(y_test, y_pred)\n",
        "mape = (mae / np.mean(y_test)) * 100\n",
        "\n",
        "print(f\"MAPE: {mape}%\")"
      ],
      "metadata": {
        "colab": {
          "base_uri": "https://localhost:8080/"
        },
        "id": "FQABOyrx3rTv",
        "outputId": "44723442-247e-485c-89f9-9a34a2d3ded2"
      },
      "execution_count": null,
      "outputs": [
        {
          "output_type": "stream",
          "name": "stdout",
          "text": [
            "MAPE: 7.685885793146953%\n"
          ]
        }
      ]
    },
    {
      "cell_type": "code",
      "source": [
        "mae = mean_absolute_error(y_test, y_pred_best)\n",
        "mape = (mae / np.mean(y_test)) * 100\n",
        "\n",
        "print(f\"MAPE: {mape}%\")"
      ],
      "metadata": {
        "colab": {
          "base_uri": "https://localhost:8080/"
        },
        "id": "pqhvzoGr9LTn",
        "outputId": "51a45f45-bd93-4170-843a-823650583440"
      },
      "execution_count": null,
      "outputs": [
        {
          "output_type": "stream",
          "name": "stdout",
          "text": [
            "MAPE: 7.691980220197661%\n"
          ]
        }
      ]
    },
    {
      "cell_type": "markdown",
      "source": [
        "## Model Regresi Linear"
      ],
      "metadata": {
        "id": "M-4C0RLYXAH6"
      }
    },
    {
      "cell_type": "markdown",
      "source": [
        "### Regresi Linear"
      ],
      "metadata": {
        "id": "MwHXFGj0Yk-1"
      }
    },
    {
      "cell_type": "code",
      "source": [
        "import numpy as np\n",
        "from sklearn.model_selection import KFold\n",
        "\n",
        "class LinearRegression:\n",
        "    def __init__(self, learning_rate=0.01, iterations=1000):\n",
        "        self.learning_rate = learning_rate\n",
        "        self.iterations = iterations\n",
        "        self.weights = None\n",
        "        self.bias = None\n",
        "\n",
        "    def fit(self, X, y):\n",
        "        num_samples, num_features = X.shape\n",
        "\n",
        "\n",
        "        self.weights = np.zeros(num_features)\n",
        "        self.bias = 0\n",
        "\n",
        "\n",
        "        for _ in range(self.iterations):\n",
        "            y_predicted = np.dot(X, self.weights) + self.bias\n",
        "            dw = (1 / num_samples) * np.dot(X.T, (y_predicted - y))\n",
        "            db = (1 / num_samples) * np.sum(y_predicted - y)\n",
        "\n",
        "            self.weights -= self.learning_rate * dw\n",
        "            self.bias -= self.learning_rate * db\n",
        "\n",
        "    def predict(self, X):\n",
        "        return np.dot(X, self.weights) + self.bias\n",
        "\n",
        "def k_fold_cross_validation_linear(X, y, k):\n",
        "    kf = KFold(n_splits=k)\n",
        "    mse_scores = []\n",
        "\n",
        "    for train_index, test_index in kf.split(X):\n",
        "        X_train, X_test = X[train_index], X[test_index]\n",
        "        y_train, y_test = y[train_index], y[test_index]\n",
        "\n",
        "        model_regresi = LinearRegression(learning_rate=0.001, iterations=1000)\n",
        "        model_regresi.fit(X_train, y_train)\n",
        "        prediksi = model_regresi.predict(X_test)\n",
        "\n",
        "        mse = mean_squared_error(y_test, prediksi)\n",
        "        mse_scores.append(mse)\n",
        "\n",
        "    return mse_scores, prediksi"
      ],
      "metadata": {
        "id": "F4m8_0kvYnTY"
      },
      "execution_count": null,
      "outputs": []
    },
    {
      "cell_type": "markdown",
      "source": [
        "### Training"
      ],
      "metadata": {
        "id": "Z0cDkO51bnQ4"
      }
    },
    {
      "cell_type": "code",
      "source": [
        "model_regresi = LinearRegression(learning_rate=0.001, iterations=1000)\n",
        "model_regresi.fit(X_train, y_train)\n",
        "prediksi = model_regresi.predict(X_test)"
      ],
      "metadata": {
        "id": "nTBpYhC3Yzsh"
      },
      "execution_count": null,
      "outputs": []
    },
    {
      "cell_type": "code",
      "source": [
        "prediksi"
      ],
      "metadata": {
        "colab": {
          "base_uri": "https://localhost:8080/"
        },
        "id": "cXofO_lybN1E",
        "outputId": "f310b806-2f7c-484a-f6f1-050af4a92e10"
      },
      "execution_count": null,
      "outputs": [
        {
          "output_type": "execute_result",
          "data": {
            "text/plain": [
              "array([10.49741023,  9.41321687,  7.70009843,  6.25148861, 15.42006805,\n",
              "        9.92814099,  9.10697742, 15.17735999,  7.12894669, 14.80014183,\n",
              "       12.81217157, 12.46083963, 14.2399453 , 13.98204993,  7.78187756,\n",
              "       14.33729517, 14.45374224,  7.9477487 , 11.33172682, 13.85872785,\n",
              "        2.41352759,  9.45970995, 13.74147883, 17.11986514,  6.325595  ,\n",
              "        0.52863684, 16.19319691, 15.79580556, 14.65552999, 15.29759115,\n",
              "        9.89964162, 11.89569649, 12.83984464, 18.14124844,  3.83404112,\n",
              "       14.84555143,  8.97727061, 12.66587329, 10.50945787, -1.20521268,\n",
              "        8.30866663, 13.71287632, 15.18943927, 16.41964496, 10.09783081,\n",
              "       13.73789002, 14.47092425, 12.58077893, 10.18214185,  6.68785669,\n",
              "       17.05619995, 10.75985702,  9.17316514, 10.49375432,  7.63322899,\n",
              "       12.49674787, 11.39269557, 12.14771704, 16.63944923,  9.51491284,\n",
              "       12.54613836, 11.92180348,  7.58677769,  9.64477593,  4.85505491,\n",
              "        9.2625107 ,  9.43630064,  9.82371354, 13.5901586 , 14.8602159 ,\n",
              "        7.44129324])"
            ]
          },
          "metadata": {},
          "execution_count": 114
        }
      ]
    },
    {
      "cell_type": "code",
      "source": [
        "k = 5\n",
        "mse_scores, predict = k_fold_cross_validation_linear(X, y, k)"
      ],
      "metadata": {
        "id": "SBrW2mxBv_9Z"
      },
      "execution_count": null,
      "outputs": []
    },
    {
      "cell_type": "code",
      "source": [
        "predict"
      ],
      "metadata": {
        "colab": {
          "base_uri": "https://localhost:8080/"
        },
        "id": "0AJmUv5rw5FR",
        "outputId": "9e967df9-f055-4685-8552-614ccbc69e7d"
      },
      "execution_count": null,
      "outputs": [
        {
          "output_type": "execute_result",
          "data": {
            "text/plain": [
              "array([ 9.50817485, 10.4105755 , 10.42466745, 14.58725334,  9.27608389,\n",
              "       10.26798902, 13.2194714 , 14.50966448, 10.93370929, 14.90566371,\n",
              "        9.03077606, 14.03106294,  7.01678279, 13.76946133, -0.5926618 ,\n",
              "        6.67274712,  7.94064363, 16.04785605, 13.50307397,  6.82044952,\n",
              "       15.30718502,  9.26462509, 11.03504519,  9.05342353, 15.69594701,\n",
              "        7.05942524,  9.40635548, 12.96238881, 15.78417165,  9.29300439,\n",
              "       14.51001612, 12.66005275,  6.30775629,  6.88813118, 10.88753687,\n",
              "        8.36821735, 12.81951092,  9.06307511, 16.27040705, 12.37048264,\n",
              "       11.60063229, 10.24159085, 14.40894001, 10.23819648,  8.95564573,\n",
              "       12.58318372,  5.10143406,  9.49819897, 12.34079577,  5.60053504,\n",
              "       11.8000759 , 10.90317616,  4.26338285, 18.22041278, 13.83425596,\n",
              "        8.28871344, 14.52164738, 10.21609731, 13.7379333 ,  5.2072351 ,\n",
              "       10.3888093 ,  3.57996487,  4.94604164,  8.45094619,  4.33754746,\n",
              "        3.95966961,  7.34888145,  8.54347998, 15.18363087, 11.39017067,\n",
              "        7.72039011])"
            ]
          },
          "metadata": {},
          "execution_count": 116
        }
      ]
    },
    {
      "cell_type": "markdown",
      "source": [
        "### Testing"
      ],
      "metadata": {
        "id": "F0IfbxXZbrav"
      }
    },
    {
      "cell_type": "code",
      "source": [
        "for indeks in range(len(y_test)):\n",
        "  print(\"Nilai Uji\",indeks+1,\":\", y_test[indeks],\", Hasil prediksi:\", prediksi[indeks])"
      ],
      "metadata": {
        "colab": {
          "base_uri": "https://localhost:8080/"
        },
        "id": "XcHzvwTObTMs",
        "outputId": "49a40cff-bdb0-4088-b0db-facf94bd5881"
      },
      "execution_count": null,
      "outputs": [
        {
          "output_type": "stream",
          "name": "stdout",
          "text": [
            "Nilai Uji 1 : 10 , Hasil prediksi: 10.49741023395426\n",
            "Nilai Uji 2 : 11 , Hasil prediksi: 9.413216870571029\n",
            "Nilai Uji 3 : 8 , Hasil prediksi: 7.700098430656082\n",
            "Nilai Uji 4 : 4 , Hasil prediksi: 6.251488612621343\n",
            "Nilai Uji 5 : 16 , Hasil prediksi: 15.420068054747082\n",
            "Nilai Uji 6 : 10 , Hasil prediksi: 9.928140990672889\n",
            "Nilai Uji 7 : 10 , Hasil prediksi: 9.106977420353903\n",
            "Nilai Uji 8 : 15 , Hasil prediksi: 15.17735999222655\n",
            "Nilai Uji 9 : 8 , Hasil prediksi: 7.128946694128681\n",
            "Nilai Uji 10 : 13 , Hasil prediksi: 14.800141825648325\n",
            "Nilai Uji 11 : 13 , Hasil prediksi: 12.812171571432183\n",
            "Nilai Uji 12 : 12 , Hasil prediksi: 12.460839633304216\n",
            "Nilai Uji 13 : 15 , Hasil prediksi: 14.239945301076448\n",
            "Nilai Uji 14 : 14 , Hasil prediksi: 13.982049927394314\n",
            "Nilai Uji 15 : 0 , Hasil prediksi: 7.7818775644103155\n",
            "Nilai Uji 16 : 14 , Hasil prediksi: 14.337295168667676\n",
            "Nilai Uji 17 : 15 , Hasil prediksi: 14.45374223972386\n",
            "Nilai Uji 18 : 10 , Hasil prediksi: 7.94774869549979\n",
            "Nilai Uji 19 : 11 , Hasil prediksi: 11.331726820844366\n",
            "Nilai Uji 20 : 13 , Hasil prediksi: 13.858727847340896\n",
            "Nilai Uji 21 : 0 , Hasil prediksi: 2.4135275948059083\n",
            "Nilai Uji 22 : 10 , Hasil prediksi: 9.459709947919515\n",
            "Nilai Uji 23 : 14 , Hasil prediksi: 13.741478827438703\n",
            "Nilai Uji 24 : 18 , Hasil prediksi: 17.11986514411039\n",
            "Nilai Uji 25 : 0 , Hasil prediksi: 6.325594996584319\n",
            "Nilai Uji 26 : 0 , Hasil prediksi: 0.5286368447318782\n",
            "Nilai Uji 27 : 15 , Hasil prediksi: 16.193196906980738\n",
            "Nilai Uji 28 : 16 , Hasil prediksi: 15.79580556276216\n",
            "Nilai Uji 29 : 15 , Hasil prediksi: 14.65552998775964\n",
            "Nilai Uji 30 : 16 , Hasil prediksi: 15.297591153634434\n",
            "Nilai Uji 31 : 11 , Hasil prediksi: 9.899641615512325\n",
            "Nilai Uji 32 : 14 , Hasil prediksi: 11.895696485191143\n",
            "Nilai Uji 33 : 14 , Hasil prediksi: 12.839844636397219\n",
            "Nilai Uji 34 : 18 , Hasil prediksi: 18.14124844023746\n",
            "Nilai Uji 35 : 6 , Hasil prediksi: 3.8340411151029197\n",
            "Nilai Uji 36 : 15 , Hasil prediksi: 14.845551428537963\n",
            "Nilai Uji 37 : 10 , Hasil prediksi: 8.97727060824735\n",
            "Nilai Uji 38 : 13 , Hasil prediksi: 12.665873294107989\n",
            "Nilai Uji 39 : 11 , Hasil prediksi: 10.509457872293021\n",
            "Nilai Uji 40 : 0 , Hasil prediksi: -1.2052126790824274\n",
            "Nilai Uji 41 : 10 , Hasil prediksi: 8.308666633225174\n",
            "Nilai Uji 42 : 14 , Hasil prediksi: 13.712876319978434\n",
            "Nilai Uji 43 : 13 , Hasil prediksi: 15.189439273503217\n",
            "Nilai Uji 44 : 15 , Hasil prediksi: 16.41964496052305\n",
            "Nilai Uji 45 : 10 , Hasil prediksi: 10.097830811202527\n",
            "Nilai Uji 46 : 15 , Hasil prediksi: 13.737890016221654\n",
            "Nilai Uji 47 : 15 , Hasil prediksi: 14.470924246705634\n",
            "Nilai Uji 48 : 14 , Hasil prediksi: 12.580778931610453\n",
            "Nilai Uji 49 : 11 , Hasil prediksi: 10.182141852398058\n",
            "Nilai Uji 50 : 9 , Hasil prediksi: 6.687856694184921\n",
            "Nilai Uji 51 : 17 , Hasil prediksi: 17.05619994955043\n",
            "Nilai Uji 52 : 11 , Hasil prediksi: 10.759857019172184\n",
            "Nilai Uji 53 : 10 , Hasil prediksi: 9.173165140187544\n",
            "Nilai Uji 54 : 9 , Hasil prediksi: 10.493754323175567\n",
            "Nilai Uji 55 : 10 , Hasil prediksi: 7.633228987101956\n",
            "Nilai Uji 56 : 12 , Hasil prediksi: 12.496747869597165\n",
            "Nilai Uji 57 : 11 , Hasil prediksi: 11.392695567153318\n",
            "Nilai Uji 58 : 14 , Hasil prediksi: 12.147717035449466\n",
            "Nilai Uji 59 : 17 , Hasil prediksi: 16.63944922668763\n",
            "Nilai Uji 60 : 10 , Hasil prediksi: 9.514912835906316\n",
            "Nilai Uji 61 : 13 , Hasil prediksi: 12.546138359668356\n",
            "Nilai Uji 62 : 14 , Hasil prediksi: 11.92180347791473\n",
            "Nilai Uji 63 : 8 , Hasil prediksi: 7.586777691832928\n",
            "Nilai Uji 64 : 9 , Hasil prediksi: 9.64477592873245\n",
            "Nilai Uji 65 : 5 , Hasil prediksi: 4.855054911752969\n",
            "Nilai Uji 66 : 10 , Hasil prediksi: 9.262510697489306\n",
            "Nilai Uji 67 : 10 , Hasil prediksi: 9.436300637460645\n",
            "Nilai Uji 68 : 11 , Hasil prediksi: 9.823713543728774\n",
            "Nilai Uji 69 : 13 , Hasil prediksi: 13.59015860349029\n",
            "Nilai Uji 70 : 16 , Hasil prediksi: 14.860215904738936\n",
            "Nilai Uji 71 : 9 , Hasil prediksi: 7.4412932376127365\n"
          ]
        }
      ]
    },
    {
      "cell_type": "code",
      "source": [
        "for indeks in range(len(y_test)):\n",
        "  print(\"Nilai Uji\",indeks+1,\":\", y_test[indeks],\", Hasil prediksi:\", predict[indeks])"
      ],
      "metadata": {
        "colab": {
          "base_uri": "https://localhost:8080/"
        },
        "id": "wRJEiFK3w--M",
        "outputId": "639b4d64-f0d1-42a9-f999-b3dba8af52ad"
      },
      "execution_count": null,
      "outputs": [
        {
          "output_type": "stream",
          "name": "stdout",
          "text": [
            "Nilai Uji 1 : 10 , Hasil prediksi: 9.50817485482551\n",
            "Nilai Uji 2 : 11 , Hasil prediksi: 10.410575499592461\n",
            "Nilai Uji 3 : 8 , Hasil prediksi: 10.42466745017204\n",
            "Nilai Uji 4 : 4 , Hasil prediksi: 14.587253337597337\n",
            "Nilai Uji 5 : 16 , Hasil prediksi: 9.276083893328233\n",
            "Nilai Uji 6 : 10 , Hasil prediksi: 10.267989015281689\n",
            "Nilai Uji 7 : 10 , Hasil prediksi: 13.219471402094259\n",
            "Nilai Uji 8 : 15 , Hasil prediksi: 14.509664484437646\n",
            "Nilai Uji 9 : 8 , Hasil prediksi: 10.933709288885131\n",
            "Nilai Uji 10 : 13 , Hasil prediksi: 14.905663707101452\n",
            "Nilai Uji 11 : 13 , Hasil prediksi: 9.03077605554706\n",
            "Nilai Uji 12 : 12 , Hasil prediksi: 14.031062940358934\n",
            "Nilai Uji 13 : 15 , Hasil prediksi: 7.016782791301315\n",
            "Nilai Uji 14 : 14 , Hasil prediksi: 13.769461328844598\n",
            "Nilai Uji 15 : 0 , Hasil prediksi: -0.592661797305035\n",
            "Nilai Uji 16 : 14 , Hasil prediksi: 6.672747120293744\n",
            "Nilai Uji 17 : 15 , Hasil prediksi: 7.940643628490617\n",
            "Nilai Uji 18 : 10 , Hasil prediksi: 16.047856047786762\n",
            "Nilai Uji 19 : 11 , Hasil prediksi: 13.503073968120699\n",
            "Nilai Uji 20 : 13 , Hasil prediksi: 6.820449517432714\n",
            "Nilai Uji 21 : 0 , Hasil prediksi: 15.30718502281031\n",
            "Nilai Uji 22 : 10 , Hasil prediksi: 9.264625085942953\n",
            "Nilai Uji 23 : 14 , Hasil prediksi: 11.0350451928693\n",
            "Nilai Uji 24 : 18 , Hasil prediksi: 9.05342353395495\n",
            "Nilai Uji 25 : 0 , Hasil prediksi: 15.695947012686384\n",
            "Nilai Uji 26 : 0 , Hasil prediksi: 7.0594252419384045\n",
            "Nilai Uji 27 : 15 , Hasil prediksi: 9.406355483396181\n",
            "Nilai Uji 28 : 16 , Hasil prediksi: 12.962388807174927\n",
            "Nilai Uji 29 : 15 , Hasil prediksi: 15.78417164754813\n",
            "Nilai Uji 30 : 16 , Hasil prediksi: 9.29300439149797\n",
            "Nilai Uji 31 : 11 , Hasil prediksi: 14.510016124489612\n",
            "Nilai Uji 32 : 14 , Hasil prediksi: 12.660052753725145\n",
            "Nilai Uji 33 : 14 , Hasil prediksi: 6.307756292783679\n",
            "Nilai Uji 34 : 18 , Hasil prediksi: 6.888131179163259\n",
            "Nilai Uji 35 : 6 , Hasil prediksi: 10.887536869376989\n",
            "Nilai Uji 36 : 15 , Hasil prediksi: 8.368217354667452\n",
            "Nilai Uji 37 : 10 , Hasil prediksi: 12.819510916036586\n",
            "Nilai Uji 38 : 13 , Hasil prediksi: 9.063075111376419\n",
            "Nilai Uji 39 : 11 , Hasil prediksi: 16.270407046572014\n",
            "Nilai Uji 40 : 0 , Hasil prediksi: 12.370482638263304\n",
            "Nilai Uji 41 : 10 , Hasil prediksi: 11.600632287403812\n",
            "Nilai Uji 42 : 14 , Hasil prediksi: 10.241590851953093\n",
            "Nilai Uji 43 : 13 , Hasil prediksi: 14.408940013142049\n",
            "Nilai Uji 44 : 15 , Hasil prediksi: 10.238196484359758\n",
            "Nilai Uji 45 : 10 , Hasil prediksi: 8.955645725045121\n",
            "Nilai Uji 46 : 15 , Hasil prediksi: 12.58318371906813\n",
            "Nilai Uji 47 : 15 , Hasil prediksi: 5.101434058524148\n",
            "Nilai Uji 48 : 14 , Hasil prediksi: 9.49819896972699\n",
            "Nilai Uji 49 : 11 , Hasil prediksi: 12.340795768617179\n",
            "Nilai Uji 50 : 9 , Hasil prediksi: 5.600535038242009\n",
            "Nilai Uji 51 : 17 , Hasil prediksi: 11.800075897492428\n",
            "Nilai Uji 52 : 11 , Hasil prediksi: 10.903176156660308\n",
            "Nilai Uji 53 : 10 , Hasil prediksi: 4.263382849977442\n",
            "Nilai Uji 54 : 9 , Hasil prediksi: 18.22041278113131\n",
            "Nilai Uji 55 : 10 , Hasil prediksi: 13.834255957380813\n",
            "Nilai Uji 56 : 12 , Hasil prediksi: 8.288713438725667\n",
            "Nilai Uji 57 : 11 , Hasil prediksi: 14.521647380839253\n",
            "Nilai Uji 58 : 14 , Hasil prediksi: 10.216097309353044\n",
            "Nilai Uji 59 : 17 , Hasil prediksi: 13.73793330443946\n",
            "Nilai Uji 60 : 10 , Hasil prediksi: 5.20723509866145\n",
            "Nilai Uji 61 : 13 , Hasil prediksi: 10.388809301860064\n",
            "Nilai Uji 62 : 14 , Hasil prediksi: 3.579964872921308\n",
            "Nilai Uji 63 : 8 , Hasil prediksi: 4.946041644787438\n",
            "Nilai Uji 64 : 9 , Hasil prediksi: 8.450946189027704\n",
            "Nilai Uji 65 : 5 , Hasil prediksi: 4.3375474555166145\n",
            "Nilai Uji 66 : 10 , Hasil prediksi: 3.9596696077714686\n",
            "Nilai Uji 67 : 10 , Hasil prediksi: 7.3488814456237215\n",
            "Nilai Uji 68 : 11 , Hasil prediksi: 8.54347997920827\n",
            "Nilai Uji 69 : 13 , Hasil prediksi: 15.18363086580592\n",
            "Nilai Uji 70 : 16 , Hasil prediksi: 11.390170671889964\n",
            "Nilai Uji 71 : 9 , Hasil prediksi: 7.720390109305132\n"
          ]
        }
      ]
    },
    {
      "cell_type": "code",
      "source": [
        "import matplotlib.pyplot as plt\n",
        "\n",
        "plt.plot(prediksi, 'r-', label='Hasil Prediksi')\n",
        "plt.plot(y_test, 'b-', label='Nilai Aktual')\n",
        "\n",
        "plt.xlabel('Data Uji Indeks Ke-')\n",
        "plt.ylabel('G3')\n",
        "plt.title('Perbandingan Nilai Aktual dan Hasil Prediksi')\n",
        "plt.legend()\n",
        "\n",
        "plt.show()"
      ],
      "metadata": {
        "colab": {
          "base_uri": "https://localhost:8080/",
          "height": 472
        },
        "id": "8f4LGuxnbeZf",
        "outputId": "963bf41e-83b0-41c5-8613-4a5357118866"
      },
      "execution_count": null,
      "outputs": [
        {
          "output_type": "display_data",
          "data": {
            "text/plain": [
              "<Figure size 640x480 with 1 Axes>"
            ],
            "image/png": "[encoded data removed]"
          },
          "metadata": {}
        }
      ]
    },
    {
      "cell_type": "code",
      "source": [
        "import matplotlib.pyplot as plt\n",
        "\n",
        "plt.plot(predict, 'r-', label='Hasil Prediksi')\n",
        "plt.plot(y_test, 'b-', label='Nilai Aktual')\n",
        "\n",
        "plt.xlabel('Data Uji Indeks Ke-')\n",
        "plt.ylabel('G3')\n",
        "plt.title('Perbandingan Nilai Aktual dan Hasil Prediksi Tiap FOld')\n",
        "plt.legend()\n",
        "\n",
        "plt.show()"
      ],
      "metadata": {
        "colab": {
          "base_uri": "https://localhost:8080/",
          "height": 472
        },
        "id": "OC6U69M8xGgC",
        "outputId": "c9a7264f-ef04-427c-c0d7-d0b841473471"
      },
      "execution_count": null,
      "outputs": [
        {
          "output_type": "display_data",
          "data": {
            "text/plain": [
              "<Figure size 640x480 with 1 Axes>"
            ],
            "image/png": "[encoded data removed]"
          },
          "metadata": {}
        }
      ]
    },
    {
      "cell_type": "markdown",
      "source": [
        "### Evaluasi"
      ],
      "metadata": {
        "id": "H7MJuwTlbuv0"
      }
    },
    {
      "cell_type": "markdown",
      "source": [
        "#### Mean Squared Error (MSE)"
      ],
      "metadata": {
        "id": "Mj9DT7hO7v0S"
      }
    },
    {
      "cell_type": "code",
      "source": [
        "mse_regresi = mean_squared_error(y_test, prediksi)\n",
        "print(\"MSE:\", mse_regresi)"
      ],
      "metadata": {
        "colab": {
          "base_uri": "https://localhost:8080/"
        },
        "id": "0iUiW3STbxBF",
        "outputId": "f1ed69ef-bb72-4812-d7a1-a1aa5f4a55ef"
      },
      "execution_count": null,
      "outputs": [
        {
          "output_type": "stream",
          "name": "stdout",
          "text": [
            "MSE: 2.644239010913163\n"
          ]
        }
      ]
    },
    {
      "cell_type": "code",
      "source": [
        "print(\"Mean Squared Error (MSE) scores for each fold:\")\n",
        "for i, mse in enumerate(mse_scores):\n",
        "    print(\"Fold\", i+1, \":\", mse)\n",
        "\n",
        "print(\"Average MSE MLR:\", np.mean(mse_scores))"
      ],
      "metadata": {
        "colab": {
          "base_uri": "https://localhost:8080/"
        },
        "id": "2b9f6d1QwPXl",
        "outputId": "9d37f45f-5892-4ae2-e15e-bcb230385491"
      },
      "execution_count": null,
      "outputs": [
        {
          "output_type": "stream",
          "name": "stdout",
          "text": [
            "Mean Squared Error (MSE) scores for each fold:\n",
            "Fold 1 : 1.5795045818168159\n",
            "Fold 2 : 2.1642492916572964\n",
            "Fold 3 : 3.1778567821594748\n",
            "Fold 4 : 5.147815070271347\n",
            "Fold 5 : 5.649540546486897\n",
            "Average MSE MLR: 3.5437932544783664\n"
          ]
        }
      ]
    },
    {
      "cell_type": "markdown",
      "source": [
        "#### Mean Absolute Percentage Error (MAPE)"
      ],
      "metadata": {
        "id": "YOYJFhHu72qp"
      }
    },
    {
      "cell_type": "code",
      "source": [
        "mae = mean_absolute_error(y_test, prediksi)\n",
        "mape = (mae / np.mean(y_test)) * 100\n",
        "\n",
        "print(f\"MAPE: {mape}%\")"
      ],
      "metadata": {
        "colab": {
          "base_uri": "https://localhost:8080/"
        },
        "id": "mCW_jb0Q78BB",
        "outputId": "6cdbf5c8-0ed1-4fed-d9c9-58bb5c733b12"
      },
      "execution_count": null,
      "outputs": [
        {
          "output_type": "stream",
          "name": "stdout",
          "text": [
            "MAPE: 9.431107742474328%\n"
          ]
        }
      ]
    },
    {
      "cell_type": "code",
      "source": [
        "mae = mean_absolute_error(y_test, predict)\n",
        "mape = (mae / np.mean(y_test)) * 100\n",
        "\n",
        "print(f\"MAPE: {mape}%\")"
      ],
      "metadata": {
        "id": "kPWpXwhz9jTo",
        "outputId": "683e3803-e7f3-46d8-9e76-668531197280",
        "colab": {
          "base_uri": "https://localhost:8080/"
        }
      },
      "execution_count": null,
      "outputs": [
        {
          "output_type": "stream",
          "name": "stdout",
          "text": [
            "MAPE: 39.074678952423234%\n"
          ]
        }
      ]
    }
  ]
}